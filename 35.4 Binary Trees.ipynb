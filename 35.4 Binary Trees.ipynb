{
 "cells": [
  {
   "cell_type": "code",
   "execution_count": 4,
   "metadata": {},
   "outputs": [],
   "source": [
    "import random"
   ]
  },
  {
   "cell_type": "code",
   "execution_count": 49,
   "metadata": {},
   "outputs": [],
   "source": [
    "class Queue(object):\n",
    "    def __init__(self):\n",
    "        self.items = []\n",
    "        \n",
    "    def enqueue(self, item):\n",
    "        self.items.insert(0, item)\n",
    "        \n",
    "    def dequeue(self):\n",
    "        if not self.is_empty():\n",
    "            return self.items.pop()\n",
    "        \n",
    "    def is_empty(self):\n",
    "        return len(self.items) == 0\n",
    "    \n",
    "    def peek(self):\n",
    "        if not self.is_empty():\n",
    "            return self.items[-1].val\n",
    "        \n",
    "    def __len__(self):\n",
    "        return self.size()\n",
    "    \n",
    "    def size(self):\n",
    "        return len(self.items)\n",
    "    \n",
    "\n",
    "class Node(object):\n",
    "    def __init__(self, val):\n",
    "        self.left = None\n",
    "        self.right = None\n",
    "        self.val = val\n",
    "        \n",
    "\n",
    "class BinaryTree(object):\n",
    "    def __init__(self, root):\n",
    "        self.root = Node(root)\n",
    "        \n",
    "    def preorder_print(self, start, traversal):  #depth first search\n",
    "        \"\"\"root -- left -- right\"\"\"\n",
    "        if start:\n",
    "            traversal += (str(start.val) + '-')\n",
    "            traversal = self.preorder_print(start.left, traversal)\n",
    "            traversal = self.preorder_print(start.right, traversal)\n",
    "\n",
    "        return traversal\n",
    "\n",
    "    def breadth_first(self, start): #breadth first search\n",
    "        \"\"\"root -- level 2 -- level 3\"\"\"\n",
    "        \n",
    "        if start is None:\n",
    "            return\n",
    "        \n",
    "        queue = Queue()\n",
    "        queue.enqueue(start)\n",
    "        traversal = \"\"\n",
    "        \n",
    "        while len(queue) > 0:\n",
    "            traversal += str(queue.peek()) + '-'\n",
    "            node = queue.dequeue()\n",
    "            \n",
    "            if node.left:\n",
    "                queue.enqueue(node.left)\n",
    "            if node.right:\n",
    "                queue.enqueue(node.right)\n",
    "\n",
    "        return traversal\n",
    "    \n",
    "    def print_tree(self, traversal_type):\n",
    "        if traversal_type == 'preorder':\n",
    "            return self.preorder_print(tree.root, \"\")\n",
    "        if traversal_type == 'breadth_first':\n",
    "            return self.breadth_first(tree.root)\n",
    "        else:\n",
    "            print('traversal type ' + str(traversal_type) + ' not supported')"
   ]
  },
  {
   "cell_type": "code",
   "execution_count": 53,
   "metadata": {},
   "outputs": [],
   "source": [
    "#root\n",
    "tree = BinaryTree(random.randint(1,101))\n",
    "#height 2\n",
    "tree.root.left = Node((random.randint(1,101)))\n",
    "tree.root.right = Node((random.randint(1,101)))\n",
    "#height 3\n",
    "tree.root.left.left = Node((random.randint(1,101)))\n",
    "tree.root.left.right = Node((random.randint(1,101)))\n",
    "tree.root.right.left = Node((random.randint(1,101)))\n",
    "tree.root.right.right = Node((random.randint(1,101)))\n",
    "#height 4\n",
    "tree.root.left.left.left = Node((random.randint(1,101)))\n",
    "tree.root.left.left.right = Node((random.randint(1,101)))\n",
    "tree.root.left.right.left = Node((random.randint(1,101)))\n",
    "tree.root.left.right.right = Node((random.randint(1,101)))\n",
    "tree.root.right.left.left = Node((random.randint(1,101)))\n",
    "tree.root.right.left.right = Node((random.randint(1,101)))\n",
    "tree.root.right.right.left = Node((random.randint(1,101)))\n",
    "tree.root.right.right.right = Node((random.randint(1,101)))"
   ]
  },
  {
   "cell_type": "code",
   "execution_count": 54,
   "metadata": {},
   "outputs": [
    {
     "name": "stdout",
     "output_type": "stream",
     "text": [
      "1-81-71-44-85-54-93-69-45-87-12-27-5-100-91-\n"
     ]
    }
   ],
   "source": [
    "print(tree.print_tree('preorder'))         "
   ]
  },
  {
   "cell_type": "code",
   "execution_count": 55,
   "metadata": {},
   "outputs": [
    {
     "name": "stdout",
     "output_type": "stream",
     "text": [
      "1-81-45-71-54-87-5-44-85-93-69-12-27-100-91-\n"
     ]
    }
   ],
   "source": [
    "print(tree.print_tree('breadth_first'))"
   ]
  },
  {
   "cell_type": "code",
   "execution_count": null,
   "metadata": {},
   "outputs": [],
   "source": []
  }
 ],
 "metadata": {
  "kernelspec": {
   "display_name": "Python 3",
   "language": "python",
   "name": "python3"
  },
  "language_info": {
   "codemirror_mode": {
    "name": "ipython",
    "version": 3
   },
   "file_extension": ".py",
   "mimetype": "text/x-python",
   "name": "python",
   "nbconvert_exporter": "python",
   "pygments_lexer": "ipython3",
   "version": "3.7.4"
  }
 },
 "nbformat": 4,
 "nbformat_minor": 2
}

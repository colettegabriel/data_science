{
 "cells": [
  {
   "cell_type": "code",
   "execution_count": 14,
   "metadata": {},
   "outputs": [],
   "source": [
    "import numpy as np\n",
    "import pandas as pd\n",
    "import matplotlib.pyplot as plt\n",
    "import seaborn as sns\n",
    "from sqlalchemy import create_engine\n",
    "import warnings\n",
    "\n",
    "postgres_user = 'dsbc_student'\n",
    "postgres_pw = '7*.8G9QH21'\n",
    "postgres_host = '142.93.121.174'\n",
    "postgres_port = '5432'\n",
    "postgres_db = 'studentsperformance'\n",
    "\n",
    "warnings.filterwarnings('ignore')\n",
    "sns.set(style=\"whitegrid\")\n",
    "\n",
    "engine = create_engine('postgresql://{}:{}@{}:{}/{}'.format(\n",
    "    postgres_user, postgres_pw, postgres_host, postgres_port, postgres_db))\n",
    "\n",
    "df = pd.read_sql_query('select * from studentsperformance',con=engine)\n",
    "\n",
    "# no need for an open connection, \n",
    "# as we're only doing a single query\n",
    "engine.dispose()"
   ]
  },
  {
   "cell_type": "code",
   "execution_count": 10,
   "metadata": {},
   "outputs": [
    {
     "name": "stdout",
     "output_type": "stream",
     "text": [
      "<class 'pandas.core.frame.DataFrame'>\n",
      "RangeIndex: 1000 entries, 0 to 999\n",
      "Data columns (total 8 columns):\n",
      "gender                         1000 non-null object\n",
      "race/ethnicity                 1000 non-null object\n",
      "parental level of education    1000 non-null object\n",
      "lunch                          1000 non-null object\n",
      "test preparation course        1000 non-null object\n",
      "math score                     1000 non-null int64\n",
      "reading score                  1000 non-null int64\n",
      "writing score                  1000 non-null int64\n",
      "dtypes: int64(3), object(5)\n",
      "memory usage: 62.6+ KB\n"
     ]
    }
   ],
   "source": [
    "df.info()"
   ]
  },
  {
   "cell_type": "code",
   "execution_count": 11,
   "metadata": {},
   "outputs": [
    {
     "data": {
      "text/html": [
       "<div>\n",
       "<style scoped>\n",
       "    .dataframe tbody tr th:only-of-type {\n",
       "        vertical-align: middle;\n",
       "    }\n",
       "\n",
       "    .dataframe tbody tr th {\n",
       "        vertical-align: top;\n",
       "    }\n",
       "\n",
       "    .dataframe thead th {\n",
       "        text-align: right;\n",
       "    }\n",
       "</style>\n",
       "<table border=\"1\" class=\"dataframe\">\n",
       "  <thead>\n",
       "    <tr style=\"text-align: right;\">\n",
       "      <th></th>\n",
       "      <th>gender</th>\n",
       "      <th>race/ethnicity</th>\n",
       "      <th>parental level of education</th>\n",
       "      <th>lunch</th>\n",
       "      <th>test preparation course</th>\n",
       "      <th>math score</th>\n",
       "      <th>reading score</th>\n",
       "      <th>writing score</th>\n",
       "    </tr>\n",
       "  </thead>\n",
       "  <tbody>\n",
       "    <tr>\n",
       "      <th>0</th>\n",
       "      <td>female</td>\n",
       "      <td>group B</td>\n",
       "      <td>bachelor's degree</td>\n",
       "      <td>standard</td>\n",
       "      <td>none</td>\n",
       "      <td>72</td>\n",
       "      <td>72</td>\n",
       "      <td>74</td>\n",
       "    </tr>\n",
       "    <tr>\n",
       "      <th>1</th>\n",
       "      <td>female</td>\n",
       "      <td>group C</td>\n",
       "      <td>some college</td>\n",
       "      <td>standard</td>\n",
       "      <td>completed</td>\n",
       "      <td>69</td>\n",
       "      <td>90</td>\n",
       "      <td>88</td>\n",
       "    </tr>\n",
       "    <tr>\n",
       "      <th>2</th>\n",
       "      <td>female</td>\n",
       "      <td>group B</td>\n",
       "      <td>master's degree</td>\n",
       "      <td>standard</td>\n",
       "      <td>none</td>\n",
       "      <td>90</td>\n",
       "      <td>95</td>\n",
       "      <td>93</td>\n",
       "    </tr>\n",
       "    <tr>\n",
       "      <th>3</th>\n",
       "      <td>male</td>\n",
       "      <td>group A</td>\n",
       "      <td>associate's degree</td>\n",
       "      <td>free/reduced</td>\n",
       "      <td>none</td>\n",
       "      <td>47</td>\n",
       "      <td>57</td>\n",
       "      <td>44</td>\n",
       "    </tr>\n",
       "    <tr>\n",
       "      <th>4</th>\n",
       "      <td>male</td>\n",
       "      <td>group C</td>\n",
       "      <td>some college</td>\n",
       "      <td>standard</td>\n",
       "      <td>none</td>\n",
       "      <td>76</td>\n",
       "      <td>78</td>\n",
       "      <td>75</td>\n",
       "    </tr>\n",
       "  </tbody>\n",
       "</table>\n",
       "</div>"
      ],
      "text/plain": [
       "   gender race/ethnicity parental level of education         lunch  \\\n",
       "0  female        group B           bachelor's degree      standard   \n",
       "1  female        group C                some college      standard   \n",
       "2  female        group B             master's degree      standard   \n",
       "3    male        group A          associate's degree  free/reduced   \n",
       "4    male        group C                some college      standard   \n",
       "\n",
       "  test preparation course  math score  reading score  writing score  \n",
       "0                    none          72             72             74  \n",
       "1               completed          69             90             88  \n",
       "2                    none          90             95             93  \n",
       "3                    none          47             57             44  \n",
       "4                    none          76             78             75  "
      ]
     },
     "execution_count": 11,
     "metadata": {},
     "output_type": "execute_result"
    }
   ],
   "source": [
    "df.head()"
   ]
  },
  {
   "cell_type": "markdown",
   "metadata": {},
   "source": [
    "QUESTIONS:\n",
    "\n",
    "1. Are the exam score variables normally distributed? If not, apply a Box-Cox transformation. Does anything change?\n",
    "\n",
    "2. Say we want to use a single variable for the exam scores as our target. For this purpose, create a new variable by taking a weighted average of the exam scores. Check whether this new variable is normally distributed. If it's not normally distributed, apply a Box-Cox transformation and check whether or not the transformed variable is normally distributed.\n",
    "\n",
    "3. Which variables seem related to the target variable (the newly created variable in the previous question)? If our goal is to explain the determinants of success in exams, which variables in our dataset might be useful?"
   ]
  },
  {
   "cell_type": "code",
   "execution_count": 23,
   "metadata": {},
   "outputs": [
    {
     "data": {
      "image/png": "[encoded data removed]",
      "text/plain": [
       "<Figure size 1296x360 with 6 Axes>"
      ]
     },
     "metadata": {},
     "output_type": "display_data"
    }
   ],
   "source": [
    "plt.figure(figsize=(18,5))\n",
    "\n",
    "plt.subplot(2,3,1)\n",
    "sns.boxplot(x=df[\"math score\"])\n",
    "plt.title('outliers math')\n",
    "\n",
    "plt.subplot(2,3,2)\n",
    "sns.boxplot(x=df[\"reading score\"])\n",
    "plt.title('outliers reading')\n",
    "\n",
    "plt.subplot(2,3,3)\n",
    "sns.boxplot(x=df[\"writing score\"])\n",
    "plt.title('outliers writing')\n",
    "\n",
    "plt.subplot(2,3,4)\n",
    "plt.hist(x=df[\"math score\"])\n",
    "plt.title('distribution math')\n",
    "\n",
    "plt.subplot(2,3,5)\n",
    "plt.hist(x=df[\"reading score\"])\n",
    "plt.title('distribution reading')\n",
    "\n",
    "plt.subplot(2,3,6)\n",
    "plt.hist(x=df[\"writing score\"])\n",
    "plt.title('distribution writing')\n",
    "\n",
    "plt.show()"
   ]
  },
  {
   "cell_type": "code",
   "execution_count": 43,
   "metadata": {},
   "outputs": [
    {
     "name": "stdout",
     "output_type": "stream",
     "text": [
      "The score threshold is: 1.0\n",
      "Number of outliers is: 42\n",
      "The score threshold is: 1.5\n",
      "Number of outliers is: 8\n",
      "The score threshold is: 2.0\n",
      "Number of outliers is: 2\n",
      "The score threshold is: 2.5\n",
      "Number of outliers is: 1\n",
      "The score threshold is: 3.0\n",
      "Number of outliers is: 0\n",
      "The score threshold is: 1.0\n",
      "Number of outliers is: 37\n",
      "The score threshold is: 1.5\n",
      "Number of outliers is: 6\n",
      "The score threshold is: 2.0\n",
      "Number of outliers is: 1\n",
      "The score threshold is: 2.5\n",
      "Number of outliers is: 0\n",
      "The score threshold is: 1.0\n",
      "Number of outliers is: 22\n",
      "The score threshold is: 1.5\n",
      "Number of outliers is: 5\n",
      "The score threshold is: 2.0\n",
      "Number of outliers is: 2\n",
      "The score threshold is: 2.5\n",
      "Number of outliers is: 0\n"
     ]
    }
   ],
   "source": [
    "q75, q25 = np.percentile(df[\"math score\"], [75 ,25])\n",
    "iqr = q75 - q25\n",
    "\n",
    "for threshold in np.arange(1,3.5,0.5):\n",
    "    min_val = q25 - (iqr*threshold)\n",
    "    max_val = q75 + (iqr*threshold)\n",
    "    print(\"The score threshold is: {}\".format(threshold))\n",
    "    print(\"Number of outliers is: {}\".format(\n",
    "        len((np.where((df[\"math score\"] > max_val) \n",
    "                      | (df[\"math score\"] < min_val))[0]))\n",
    "    ))\n",
    "    \n",
    "q75, q25 = np.percentile(df[\"reading score\"], [75 ,25])\n",
    "iqr = q75 - q25\n",
    "\n",
    "for threshold in np.arange(1,3,0.5):\n",
    "    min_val = q25 - (iqr*threshold)\n",
    "    max_val = q75 + (iqr*threshold)\n",
    "    print(\"The score threshold is: {}\".format(threshold))\n",
    "    print(\"Number of outliers is: {}\".format(\n",
    "        len((np.where((df[\"reading score\"] > max_val) \n",
    "                      | (df[\"reading score\"] < min_val))[0]))\n",
    "    ))\n",
    "    \n",
    "q75, q25 = np.percentile(df[\"writing score\"], [75 ,25])\n",
    "iqr = q75 - q25\n",
    "\n",
    "for threshold in np.arange(1,3,0.5):\n",
    "    min_val = q25 - (iqr*threshold)\n",
    "    max_val = q75 + (iqr*threshold)\n",
    "    print(\"The score threshold is: {}\".format(threshold))\n",
    "    print(\"Number of outliers is: {}\".format(\n",
    "        len((np.where((df[\"writing score\"] > max_val) \n",
    "                      | (df[\"writing score\"] < min_val))[0]))\n",
    "    ))"
   ]
  },
  {
   "cell_type": "code",
   "execution_count": 57,
   "metadata": {},
   "outputs": [
    {
     "name": "stdout",
     "output_type": "stream",
     "text": [
      "Jarque-Bera test statistics is 1233.4799726707836 and p value is 0.0\n",
      "Normality test statistics is 259.4703560154713 and p value is 4.536574867826489e-57\n",
      "Jarque-Bera test statistics is 88.0083349548674 and p value is 0.0\n",
      "Normality test statistics is 70.4238348783534 and p value is 5.101038001506264e-16\n",
      "Jarque-Bera test statistics is 141.6378240717818 and p value is 0.0\n",
      "Normality test statistics is 97.39700939472482 and p value is 7.087745794883206e-22\n"
     ]
    }
   ],
   "source": [
    "from scipy.stats import jarque_bera\n",
    "from scipy.stats import normaltest\n",
    "\n",
    "jb_stats = jarque_bera(np.sqrt(df[\"math score\"]))\n",
    "norm_stats = normaltest(np.sqrt(df[\"math score\"]))\n",
    "\n",
    "print(\"Jarque-Bera test statistics is {0} and p value is {1}\".format(jb_stats[0], jb_stats[1]))\n",
    "print(\"Normality test statistics is {0} and p value is {1}\".format(norm_stats[0], norm_stats[1]))\n",
    "\n",
    "jb_stats = jarque_bera(np.sqrt(df[\"reading score\"]))\n",
    "norm_stats = normaltest(np.sqrt(df[\"reading score\"]))\n",
    "\n",
    "print(\"Jarque-Bera test statistics is {0} and p value is {1}\".format(jb_stats[0], jb_stats[1]))\n",
    "print(\"Normality test statistics is {0} and p value is {1}\".format(norm_stats[0], norm_stats[1]))\n",
    "\n",
    "jb_stats = jarque_bera(np.sqrt(df[\"writing score\"]))\n",
    "norm_stats = normaltest(np.sqrt(df[\"writing score\"]))\n",
    "\n",
    "print(\"Jarque-Bera test statistics is {0} and p value is {1}\".format(jb_stats[0], jb_stats[1]))\n",
    "print(\"Normality test statistics is {0} and p value is {1}\".format(norm_stats[0], norm_stats[1]))"
   ]
  },
  {
   "cell_type": "code",
   "execution_count": 61,
   "metadata": {},
   "outputs": [
    {
     "data": {
      "image/png": "[encoded data removed]",
      "text/plain": [
       "<Figure size 1080x360 with 2 Axes>"
      ]
     },
     "metadata": {},
     "output_type": "display_data"
    }
   ],
   "source": [
    "#log transform and square root transform fail for removing outliers from scores\n",
    "\n",
    "plt.figure(figsize = (15,5))\n",
    "\n",
    "plt.subplot(1,2,1)\n",
    "plt.hist(df[\"math score\"])\n",
    "plt.title(\"Histogram of math scores\")\n",
    "\n",
    "plt.subplot(1,2,2)\n",
    "plt.hist(df[\"math score\"]**(1/2))\n",
    "plt.title(\"Histogram of log transformed math scores\")\n",
    "plt.show()"
   ]
  },
  {
   "cell_type": "code",
   "execution_count": 65,
   "metadata": {},
   "outputs": [],
   "source": [
    "df.drop(df.loc[df['math score']==0].index, inplace=True)\n",
    "df.drop(df.loc[df['reading score']==0].index, inplace=True)\n",
    "df.drop(df.loc[df['writing score']==0].index, inplace=True)"
   ]
  },
  {
   "cell_type": "code",
   "execution_count": 66,
   "metadata": {},
   "outputs": [
    {
     "data": {
      "image/png": "[encoded data removed]",
      "text/plain": [
       "<Figure size 1296x360 with 3 Axes>"
      ]
     },
     "metadata": {},
     "output_type": "display_data"
    }
   ],
   "source": [
    "from scipy.stats import boxcox\n",
    "\n",
    "math_boxcox,_ = boxcox(df[\"math score\"])\n",
    "reading_boxcox,_ = boxcox(df[\"reading score\"])\n",
    "writing_boxcox,_ = boxcox(df[\"writing score\"])\n",
    "\n",
    "plt.figure(figsize=(18,5))\n",
    "\n",
    "# histograms of the box-cox transformed data\n",
    "plt.subplot(1, 3, 1)\n",
    "plt.hist(math_boxcox)\n",
    "plt.title(\"histogram of math scores (box-cox transformed)\")\n",
    "\n",
    "plt.subplot(1, 3, 2)\n",
    "plt.hist(reading_boxcox)\n",
    "plt.title(\"histogram of reading scores (box-cox transformed)\")\n",
    "\n",
    "plt.subplot(1, 3, 3)\n",
    "plt.hist(writing_boxcox)\n",
    "plt.title(\"histogram of writing scores (box-cox transformed)\")\n",
    "\n",
    "plt.show()"
   ]
  },
  {
   "cell_type": "code",
   "execution_count": 68,
   "metadata": {},
   "outputs": [
    {
     "name": "stdout",
     "output_type": "stream",
     "text": [
      "Jarque-Bera test statistics is 137.78233427821982 and p value is 0.0\n",
      "Normality test statistics is 91.8092718022297 and p value is 1.1584303691477202e-20\n",
      "Jarque-Bera test statistics is 61.693652215114575 and p value is 4.007905118896815e-14\n",
      "Normality test statistics is 53.70769628570281 and p value is 2.1753138937151093e-12\n",
      "Jarque-Bera test statistics is 79.43007553986428 and p value is 0.0\n",
      "Normality test statistics is 65.82554918491556 and p value is 5.083509159050983e-15\n"
     ]
    }
   ],
   "source": [
    "jb_stats = jarque_bera(np.sqrt(df[\"math score\"]))\n",
    "norm_stats = normaltest(np.sqrt(df[\"math score\"]))\n",
    "\n",
    "print(\"Jarque-Bera test statistics is {0} and p value is {1}\".format(jb_stats[0], jb_stats[1]))\n",
    "print(\"Normality test statistics is {0} and p value is {1}\".format(norm_stats[0], norm_stats[1]))\n",
    "\n",
    "jb_stats = jarque_bera(np.sqrt(df[\"reading score\"]))\n",
    "norm_stats = normaltest(np.sqrt(df[\"reading score\"]))\n",
    "\n",
    "print(\"Jarque-Bera test statistics is {0} and p value is {1}\".format(jb_stats[0], jb_stats[1]))\n",
    "print(\"Normality test statistics is {0} and p value is {1}\".format(norm_stats[0], norm_stats[1]))\n",
    "\n",
    "jb_stats = jarque_bera(np.sqrt(df[\"writing score\"]))\n",
    "norm_stats = normaltest(np.sqrt(df[\"writing score\"]))\n",
    "\n",
    "print(\"Jarque-Bera test statistics is {0} and p value is {1}\".format(jb_stats[0], jb_stats[1]))\n",
    "print(\"Normality test statistics is {0} and p value is {1}\".format(norm_stats[0], norm_stats[1]))"
   ]
  },
  {
   "cell_type": "markdown",
   "metadata": {},
   "source": [
    "2. Say we want to use a single variable for the exam scores as our target. For this purpose, create a new variable by taking a weighted average of the exam scores. Check whether this new variable is normally distributed. If it's not normally distributed, apply a Box-Cox transformation and check whether or not the transformed variable is normally distributed."
   ]
  },
  {
   "cell_type": "code",
   "execution_count": 69,
   "metadata": {},
   "outputs": [],
   "source": [
    "df['ave_score'] = (df['math score']+df['reading score']+df['writing score'])/3"
   ]
  },
  {
   "cell_type": "code",
   "execution_count": 71,
   "metadata": {},
   "outputs": [
    {
     "data": {
      "image/png": "[encoded data removed]",
      "text/plain": [
       "<Figure size 432x288 with 1 Axes>"
      ]
     },
     "metadata": {},
     "output_type": "display_data"
    }
   ],
   "source": [
    "plt.boxplot(df[\"ave_score\"])\n",
    "plt.title(\"Box plot of average scores (whis=1.5)\")\n",
    "plt.show()"
   ]
  },
  {
   "cell_type": "code",
   "execution_count": 72,
   "metadata": {},
   "outputs": [
    {
     "name": "stdout",
     "output_type": "stream",
     "text": [
      "The score threshold is: 1\n",
      "The indices of the outliers:\n",
      "(array([  1,   2,   6,  16,  34,  38,  49,  56,  85,  93, 101, 103, 105,\n",
      "       109, 113, 119, 120, 121, 124, 129, 145, 148, 154, 160, 163, 164,\n",
      "       170, 171, 174, 178, 188, 213, 215, 228, 232, 233, 240, 262, 267,\n",
      "       273, 275, 285, 298, 305, 315, 324, 332, 333, 346, 358, 360, 372,\n",
      "       375, 376, 379, 380, 396, 402, 408, 419, 425, 438, 446, 450, 455,\n",
      "       457, 462, 464, 467, 469, 473, 491, 492, 500, 502, 508, 513, 514,\n",
      "       515, 520, 532, 538, 542, 545, 550, 562, 566, 571, 577, 580, 594,\n",
      "       604, 606, 612, 614, 617, 618, 623, 625, 633, 634, 636, 640, 651,\n",
      "       658, 666, 684, 688, 694, 695, 701, 707, 709, 710, 711, 712, 714,\n",
      "       716, 721, 727, 731, 735, 741, 748, 752, 754, 778, 780, 783, 792,\n",
      "       801, 802, 812, 814, 818, 819, 820, 830, 832, 844, 845, 851, 854,\n",
      "       860, 863, 864, 872, 875, 885, 889, 890, 899, 902, 906, 915, 918,\n",
      "       933, 937, 940, 955, 956, 961, 969, 978, 981, 982, 994, 998]),)\n",
      "Number of outliers is: 168\n",
      "The score threshold is: 2\n",
      "The indices of the outliers:\n",
      "(array([113, 148, 164, 178, 450, 457, 545, 566, 594, 625, 684, 711, 716,\n",
      "       854, 902, 915, 956, 961, 969]),)\n",
      "Number of outliers is: 19\n",
      "The score threshold is: 3\n",
      "The indices of the outliers:\n",
      "(array([], dtype=int64),)\n",
      "Number of outliers is: 0\n",
      "The score threshold is: 4\n",
      "The indices of the outliers:\n",
      "(array([], dtype=int64),)\n",
      "Number of outliers is: 0\n"
     ]
    }
   ],
   "source": [
    "from scipy.stats import zscore\n",
    "\n",
    "z_scores = zscore(df[\"ave_score\"])\n",
    "for threshold in range(1,5):\n",
    "    print(\"The score threshold is: {}\".format(threshold))\n",
    "    print(\"The indices of the outliers:\")\n",
    "    print(np.where(z_scores > threshold))\n",
    "    print(\"Number of outliers is: {}\".format(len((np.where(z_scores > threshold)[0]))))"
   ]
  },
  {
   "cell_type": "code",
   "execution_count": 80,
   "metadata": {},
   "outputs": [
    {
     "data": {
      "image/png": "[encoded data removed]",
      "text/plain": [
       "<Figure size 1296x360 with 2 Axes>"
      ]
     },
     "metadata": {},
     "output_type": "display_data"
    }
   ],
   "source": [
    "ave_score_boxcox,_ = boxcox(df[\"ave_score\"])\n",
    "\n",
    "plt.figure(figsize=(18,5))\n",
    "\n",
    "plt.subplot(1, 2, 1)\n",
    "plt.hist(df['ave_score'])\n",
    "plt.title(\"histogram of average scores\")\n",
    "\n",
    "# histograms of the box-cox transformed data\n",
    "plt.subplot(1, 2, 2)\n",
    "plt.hist(ave_score_boxcox)\n",
    "plt.title(\"histogram of average scores (box-cox transformed)\")\n",
    "\n",
    "plt.show()"
   ]
  },
  {
   "cell_type": "code",
   "execution_count": 81,
   "metadata": {},
   "outputs": [
    {
     "name": "stdout",
     "output_type": "stream",
     "text": [
      "Jarque-Bera test statistics is 3.4323846909111793 and p value is 0.17974926966382276\n",
      "Normality test statistics is 4.219879978703656 and p value is 0.12124524222064059\n"
     ]
    }
   ],
   "source": [
    "jb_stats = jarque_bera(ave_score_boxcox)\n",
    "norm_stats = normaltest(ave_score_boxcox)\n",
    "\n",
    "print(\"Jarque-Bera test statistics is {0} and p value is {1}\".format(jb_stats[0], jb_stats[1]))\n",
    "print(\"Normality test statistics is {0} and p value is {1}\".format(norm_stats[0], norm_stats[1]))"
   ]
  },
  {
   "cell_type": "markdown",
   "metadata": {},
   "source": [
    "3. Which variables seem related to the target variable (the newly created variable in the previous question)? If our goal is to explain the determinants of success in exams, which variables in our dataset might be useful?\n",
    "\n",
    "Viables to keep for analysis include: gender, lunch, parental level of education, the new average score, and the test preparation course. Would race be useful here? Depends on what kinds of outcomes we are examining."
   ]
  },
  {
   "cell_type": "code",
   "execution_count": null,
   "metadata": {},
   "outputs": [],
   "source": []
  }
 ],
 "metadata": {
  "kernelspec": {
   "display_name": "Python 3",
   "language": "python",
   "name": "python3"
  },
  "language_info": {
   "codemirror_mode": {
    "name": "ipython",
    "version": 3
   },
   "file_extension": ".py",
   "mimetype": "text/x-python",
   "name": "python",
   "nbconvert_exporter": "python",
   "pygments_lexer": "ipython3",
   "version": "3.6.8"
  }
 },
 "nbformat": 4,
 "nbformat_minor": 2
}

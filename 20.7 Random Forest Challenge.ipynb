{
 "cells": [
  {
   "cell_type": "code",
   "execution_count": 37,
   "metadata": {},
   "outputs": [],
   "source": [
    "import matplotlib.pyplot as plt\n",
    "import numpy as np\n",
    "import pandas as pd\n",
    "from sklearn.model_selection import train_test_split\n",
    "from sklearn.metrics import mean_absolute_error\n",
    "import statsmodels.api as sm\n",
    "from scipy.stats import boxcox\n",
    "from statsmodels.tools.eval_measures import mse, rmse\n",
    "from sqlalchemy import create_engine\n",
    "import math\n",
    "import warnings\n",
    "from sklearn.tree import DecisionTreeRegressor # Import Decision Tree Classifier\n",
    "from sklearn.model_selection import train_test_split # Import train_test_split function\n",
    "from sklearn import metrics #Import scikit-learn metrics module for accuracy calculation"
   ]
  },
  {
   "cell_type": "code",
   "execution_count": 38,
   "metadata": {},
   "outputs": [],
   "source": [
    "warnings.filterwarnings('ignore')\n",
    "\n",
    "postgres_user = 'dsbc_student'\n",
    "postgres_pw = '7*.8G9QH21'\n",
    "postgres_host = '142.93.121.174'\n",
    "postgres_port = '5432'\n",
    "postgres_db = 'houseprices'"
   ]
  },
  {
   "cell_type": "code",
   "execution_count": 39,
   "metadata": {},
   "outputs": [],
   "source": [
    "engine = create_engine('postgresql://{}:{}@{}:{}/{}'.format(\n",
    "    postgres_user, postgres_pw, postgres_host, postgres_port, postgres_db))\n",
    "df = pd.read_sql_query('select * from houseprices',con=engine)\n",
    "\n",
    "# no need for an open connection, as we're only doing a single query\n",
    "engine.dispose()"
   ]
  },
  {
   "cell_type": "code",
   "execution_count": 40,
   "metadata": {
    "scrolled": true
   },
   "outputs": [
    {
     "name": "stdout",
     "output_type": "stream",
     "text": [
      "mszoning\n",
      "5\n",
      "street\n",
      "2\n",
      "alley\n",
      "2\n",
      "lotshape\n",
      "4\n",
      "landcontour\n",
      "4\n",
      "utilities\n",
      "2\n",
      "lotconfig\n",
      "5\n",
      "landslope\n",
      "3\n",
      "neighborhood\n",
      "25\n",
      "condition1\n",
      "9\n",
      "condition2\n",
      "8\n",
      "bldgtype\n",
      "5\n",
      "housestyle\n",
      "8\n",
      "roofstyle\n",
      "6\n",
      "roofmatl\n",
      "8\n",
      "exterior1st\n",
      "15\n",
      "exterior2nd\n",
      "16\n",
      "masvnrtype\n",
      "4\n",
      "exterqual\n",
      "4\n",
      "extercond\n",
      "5\n",
      "foundation\n",
      "6\n",
      "bsmtqual\n",
      "4\n",
      "bsmtcond\n",
      "4\n",
      "bsmtexposure\n",
      "4\n",
      "bsmtfintype1\n",
      "6\n",
      "bsmtfintype2\n",
      "6\n",
      "heating\n",
      "6\n",
      "heatingqc\n",
      "5\n",
      "centralair\n",
      "2\n",
      "electrical\n",
      "5\n",
      "kitchenqual\n",
      "4\n",
      "functional\n",
      "7\n",
      "fireplacequ\n",
      "5\n",
      "garagetype\n",
      "6\n",
      "garagefinish\n",
      "3\n",
      "garagequal\n",
      "5\n",
      "garagecond\n",
      "5\n",
      "paveddrive\n",
      "3\n",
      "poolqc\n",
      "3\n",
      "fence\n",
      "4\n",
      "miscfeature\n",
      "4\n",
      "saletype\n",
      "9\n",
      "salecondition\n",
      "6\n"
     ]
    }
   ],
   "source": [
    "categorical = df.select_dtypes(include=['object'])\n",
    "for i in categorical:\n",
    "    column = categorical[i]\n",
    "    print(i)\n",
    "    print(column.nunique())"
   ]
  },
  {
   "cell_type": "code",
   "execution_count": 41,
   "metadata": {},
   "outputs": [],
   "source": [
    "#create lists of continuous and categorical variables\n",
    "num_col = df.select_dtypes(['int64', 'float64']).columns\n",
    "non_num = df.select_dtypes(['object']).columns"
   ]
  },
  {
   "cell_type": "code",
   "execution_count": 42,
   "metadata": {
    "scrolled": true
   },
   "outputs": [
    {
     "data": {
      "text/plain": [
       "saleprice        1.000000\n",
       "overallqual      0.790982\n",
       "grlivarea        0.708624\n",
       "garagecars       0.640409\n",
       "garagearea       0.623431\n",
       "totalbsmtsf      0.613581\n",
       "firstflrsf       0.605852\n",
       "fullbath         0.560664\n",
       "totrmsabvgrd     0.533723\n",
       "yearbuilt        0.522897\n",
       "yearremodadd     0.507101\n",
       "garageyrblt      0.486362\n",
       "masvnrarea       0.477493\n",
       "fireplaces       0.466929\n",
       "bsmtfinsf1       0.386420\n",
       "lotfrontage      0.351799\n",
       "wooddecksf       0.324413\n",
       "secondflrsf      0.319334\n",
       "openporchsf      0.315856\n",
       "halfbath         0.284108\n",
       "lotarea          0.263843\n",
       "bsmtfullbath     0.227122\n",
       "bsmtunfsf        0.214479\n",
       "bedroomabvgr     0.168213\n",
       "kitchenabvgr     0.135907\n",
       "enclosedporch    0.128578\n",
       "screenporch      0.111447\n",
       "poolarea         0.092404\n",
       "mssubclass       0.084284\n",
       "overallcond      0.077856\n",
       "mosold           0.046432\n",
       "threessnporch    0.044584\n",
       "yrsold           0.028923\n",
       "lowqualfinsf     0.025606\n",
       "miscval          0.021190\n",
       "bsmthalfbath     0.016844\n",
       "bsmtfinsf2       0.011378\n",
       "Name: saleprice, dtype: float64"
      ]
     },
     "execution_count": 42,
     "metadata": {},
     "output_type": "execute_result"
    }
   ],
   "source": [
    "#for numeric variables, calculate the correlation to sales price for each\n",
    "np.abs(df[num_col].iloc[:,1:].corr().loc[:,\"saleprice\"]).sort_values(ascending=False)"
   ]
  },
  {
   "cell_type": "code",
   "execution_count": 43,
   "metadata": {},
   "outputs": [],
   "source": [
    "#Use box cox transformation to shape sales price data into a more normal distribution\n",
    "#Use this new variable in the regression model\n",
    "df['adj_saleprice'],_ = boxcox(df['saleprice'])"
   ]
  },
  {
   "cell_type": "code",
   "execution_count": 44,
   "metadata": {},
   "outputs": [],
   "source": [
    "#drop the 2 extreme outliers in general living area\n",
    "df = df.drop(df[(df['grlivarea']>4000) & (df['saleprice']<300000)].index)\n",
    "\n",
    "#transform the distribution for general living area\n",
    "df['adj_livarea'],_ = boxcox(df['grlivarea'])"
   ]
  },
  {
   "cell_type": "code",
   "execution_count": 45,
   "metadata": {},
   "outputs": [],
   "source": [
    "#add features to improve the pricing model\n",
    "\n",
    "#create dummies for the zoning variable\n",
    "df = pd.concat([df,pd.get_dummies(df.mszoning, prefix=\"mszoning\", drop_first=True)], axis=1)\n",
    "\n",
    "dummy_column_names = list(pd.get_dummies(df.mszoning, prefix=\"mszoning\", drop_first=True).columns)\n",
    "\n",
    "#create variable that includes total number of baths\n",
    "df['total_bath'] = df['fullbath']+df['halfbath']+df['bsmtfullbath']+df['bsmthalfbath']\n",
    "\n",
    "#variable that combines all the outdoor square footage\n",
    "df['outdoor'] = df['openporchsf']*df['lotarea']*df['wooddecksf']\n",
    "\n",
    "#variable that gets the total square footage of each house\n",
    "df['totalsf'] = df['totalbsmtsf'] + df['firstflrsf'] + df['secondflrsf']"
   ]
  },
  {
   "cell_type": "code",
   "execution_count": 46,
   "metadata": {},
   "outputs": [
    {
     "name": "stdout",
     "output_type": "stream",
     "text": [
      "Corr. year built to salesprice = 0.524\n",
      "Corr. year remoddled to salesprice = 0.508\n",
      "Corr. feature of both years to salesprice = 0.578\n"
     ]
    }
   ],
   "source": [
    "#create feature that looks at years built and remodelled for each house and judge new feature correlation\n",
    "df['yrbuilt_yrremodel'] = df['yearbuilt'] * df['yearremodadd']\n",
    "\n",
    "print('Corr. year built to salesprice = {:.3f}'.format(df['yearbuilt'].corr(df['saleprice'])))\n",
    "print('Corr. year remoddled to salesprice = {:.3f}'.format(df['yearremodadd'].corr(df['saleprice'])))\n",
    "print('Corr. feature of both years to salesprice = {:.3f}'.format(df['yrbuilt_yrremodel'].corr(df['saleprice'])))"
   ]
  },
  {
   "cell_type": "code",
   "execution_count": 47,
   "metadata": {},
   "outputs": [],
   "source": [
    "X = df.drop('saleprice', 1)\n",
    "Y = np.log1p(df['adj_saleprice']) # Target variable\n",
    "X = pd.get_dummies(X)\n",
    "X = X.dropna(axis=1)"
   ]
  },
  {
   "cell_type": "code",
   "execution_count": 48,
   "metadata": {
    "scrolled": true
   },
   "outputs": [
    {
     "name": "stdout",
     "output_type": "stream",
     "text": [
      "The number of observations in training set is 1020\n",
      "The number of observations in test set is 438\n"
     ]
    }
   ],
   "source": [
    "# Split dataset into training set and test set\n",
    "X_train, X_test, y_train, y_test = train_test_split(X, Y, test_size=0.3, random_state=1) # 70% training and 30% test\n",
    "\n",
    "print(\"The number of observations in training set is {}\".format(X_train.shape[0]))\n",
    "print(\"The number of observations in test set is {}\".format(X_test.shape[0]))"
   ]
  },
  {
   "cell_type": "code",
   "execution_count": 49,
   "metadata": {},
   "outputs": [],
   "source": [
    "# Create Decision Tree classifer object\n",
    "clf = DecisionTreeRegressor()\n",
    "\n",
    "# Train Decision Tree Classifer\n",
    "clf = clf.fit(X_train,y_train)\n",
    "\n",
    "#Predict the response for test dataset\n",
    "y_preds = clf.predict(X_test)"
   ]
  },
  {
   "cell_type": "code",
   "execution_count": 50,
   "metadata": {},
   "outputs": [
    {
     "name": "stdout",
     "output_type": "stream",
     "text": [
      "Mean absolute error of the prediction is: 0.00028253969604858406\n",
      "Mean squared error of the prediction is: 2.7453553324367006e-07\n",
      "Root mean squared error of the prediction is: 0.0005239613852600877\n",
      "Mean absolute percentage error of the prediction is: 0.012968645005807331\n"
     ]
    }
   ],
   "source": [
    "print(\"Mean absolute error of the prediction is: {}\".format(mean_absolute_error(y_test, y_preds)))\n",
    "print(\"Mean squared error of the prediction is: {}\".format(mse(y_test, y_preds)))\n",
    "print(\"Root mean squared error of the prediction is: {}\".format(rmse(y_test, y_preds)))\n",
    "print(\"Mean absolute percentage error of the prediction is: {}\".format(np.mean(np.abs((y_test - y_preds) / y_test)) * 100))"
   ]
  },
  {
   "cell_type": "code",
   "execution_count": 53,
   "metadata": {},
   "outputs": [
    {
     "data": {
      "image/png": "[encoded data removed]",
      "text/plain": [
       "<Figure size 432x288 with 1 Axes>"
      ]
     },
     "metadata": {
      "needs_background": "light"
     },
     "output_type": "display_data"
    }
   ],
   "source": [
    "plt.scatter(y_test, y_preds)\n",
    "plt.plot(y_test, y_test, color=\"red\")\n",
    "plt.xlabel(\"true values\")\n",
    "plt.ylabel(\"predicted values\")\n",
    "plt.title(\"Charges: true and predicted values\")\n",
    "plt.show()"
   ]
  },
  {
   "cell_type": "code",
   "execution_count": 54,
   "metadata": {},
   "outputs": [],
   "source": [
    "X = df.drop('saleprice', 1)\n",
    "Y = np.log1p(df['adj_saleprice']) # Target variable\n",
    "X = pd.get_dummies(X)\n",
    "X = X.dropna(axis=1)"
   ]
  },
  {
   "cell_type": "code",
   "execution_count": 56,
   "metadata": {},
   "outputs": [
    {
     "data": {
      "text/plain": [
       "array([0.99981062, 0.99933407, 0.99814322, 0.99977594, 0.99749601,\n",
       "       0.98958583, 0.99711362, 0.98967464, 0.99982   , 0.99817623])"
      ]
     },
     "execution_count": 56,
     "metadata": {},
     "output_type": "execute_result"
    }
   ],
   "source": [
    "import time\n",
    "from sklearn import ensemble\n",
    "from sklearn.model_selection import cross_val_score\n",
    "\n",
    "start_time = time.time()\n",
    "\n",
    "rfc = ensemble.RandomForestRegressor()\n",
    "\n",
    "cross_val_score(rfc, X_train,y_train, cv=10)"
   ]
  },
  {
   "cell_type": "code",
   "execution_count": 57,
   "metadata": {},
   "outputs": [
    {
     "name": "stdout",
     "output_type": "stream",
     "text": [
      "--- 7.61 seconds ---\n"
     ]
    }
   ],
   "source": [
    "print(\"--- %s seconds ---\" % round(time.time() - start_time, 2))"
   ]
  }
 ],
 "metadata": {
  "kernelspec": {
   "display_name": "Python 3",
   "language": "python",
   "name": "python3"
  },
  "language_info": {
   "codemirror_mode": {
    "name": "ipython",
    "version": 3
   },
   "file_extension": ".py",
   "mimetype": "text/x-python",
   "name": "python",
   "nbconvert_exporter": "python",
   "pygments_lexer": "ipython3",
   "version": "3.7.3"
  }
 },
 "nbformat": 4,
 "nbformat_minor": 2
}

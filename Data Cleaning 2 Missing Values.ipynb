{
 "cells": [
  {
   "cell_type": "code",
   "execution_count": 120,
   "metadata": {},
   "outputs": [],
   "source": [
    "import pandas as pd\n",
    "import numpy as np\n",
    "from sqlalchemy import create_engine\n",
    "import warnings\n",
    "import matplotlib.pyplot as plt\n",
    "\n",
    "warnings.filterwarnings('ignore')\n",
    "postgres_user = 'dsbc_student'\n",
    "postgres_pw = '7*.8G9QH21'\n",
    "postgres_host = '142.93.121.174'\n",
    "postgres_port = '5432'\n",
    "postgres_db = 'useducation'\n",
    "\n",
    "engine = create_engine('postgresql://{}:{}@{}:{}/{}'.format(\n",
    "    postgres_user, postgres_pw, postgres_host, postgres_port, postgres_db))\n",
    "\n",
    "df = pd.read_sql_query('select * from useducation',con=engine)\n",
    "\n",
    "# no need for an open connection, \n",
    "# as we're only doing a single query\n",
    "engine.dispose()"
   ]
  },
  {
   "cell_type": "code",
   "execution_count": 124,
   "metadata": {},
   "outputs": [
    {
     "data": {
      "image/png": "[encoded data removed]",
      "text/plain": [
       "<Figure size 1080x360 with 1 Axes>"
      ]
     },
     "metadata": {
      "needs_background": "light"
     },
     "output_type": "display_data"
    }
   ],
   "source": [
    "plt.figure(figsize = (15,5))\n",
    "\n",
    "plt.subplot(1,1,1)\n",
    "x = df['YEAR']\n",
    "y = df[\"TOTAL_REVENUE\"]\n",
    "plt.scatter(x,y)\n",
    "plt.show()"
   ]
  },
  {
   "cell_type": "code",
   "execution_count": 8,
   "metadata": {},
   "outputs": [
    {
     "name": "stdout",
     "output_type": "stream",
     "text": [
      "<class 'pandas.core.frame.DataFrame'>\n",
      "RangeIndex: 1492 entries, 0 to 1491\n",
      "Data columns (total 25 columns):\n",
      "PRIMARY_KEY                     1492 non-null object\n",
      "STATE                           1492 non-null object\n",
      "YEAR                            1492 non-null int64\n",
      "ENROLL                          1229 non-null float64\n",
      "TOTAL_REVENUE                   1280 non-null float64\n",
      "FEDERAL_REVENUE                 1280 non-null float64\n",
      "STATE_REVENUE                   1280 non-null float64\n",
      "LOCAL_REVENUE                   1280 non-null float64\n",
      "TOTAL_EXPENDITURE               1280 non-null float64\n",
      "INSTRUCTION_EXPENDITURE         1280 non-null float64\n",
      "SUPPORT_SERVICES_EXPENDITURE    1280 non-null float64\n",
      "OTHER_EXPENDITURE               1229 non-null float64\n",
      "CAPITAL_OUTLAY_EXPENDITURE      1280 non-null float64\n",
      "GRADES_PK_G                     1319 non-null float64\n",
      "GRADES_KG_G                     1360 non-null float64\n",
      "GRADES_4_G                      1361 non-null float64\n",
      "GRADES_8_G                      1361 non-null float64\n",
      "GRADES_12_G                     1361 non-null float64\n",
      "GRADES_1_8_G                    1361 non-null float64\n",
      "GRADES_9_12_G                   1361 non-null float64\n",
      "GRADES_ALL_G                    1319 non-null float64\n",
      "AVG_MATH_4_SCORE                536 non-null float64\n",
      "AVG_MATH_8_SCORE                532 non-null float64\n",
      "AVG_READING_4_SCORE             533 non-null float64\n",
      "AVG_READING_8_SCORE             498 non-null float64\n",
      "dtypes: float64(22), int64(1), object(2)\n",
      "memory usage: 291.5+ KB\n"
     ]
    }
   ],
   "source": [
    "df.info(verbose=True, null_counts=True)"
   ]
  },
  {
   "cell_type": "code",
   "execution_count": 60,
   "metadata": {},
   "outputs": [
    {
     "data": {
      "text/html": [
       "<div>\n",
       "<style scoped>\n",
       "    .dataframe tbody tr th:only-of-type {\n",
       "        vertical-align: middle;\n",
       "    }\n",
       "\n",
       "    .dataframe tbody tr th {\n",
       "        vertical-align: top;\n",
       "    }\n",
       "\n",
       "    .dataframe thead th {\n",
       "        text-align: right;\n",
       "    }\n",
       "</style>\n",
       "<table border=\"1\" class=\"dataframe\">\n",
       "  <thead>\n",
       "    <tr style=\"text-align: right;\">\n",
       "      <th></th>\n",
       "      <th>PRIMARY_KEY</th>\n",
       "      <th>STATE</th>\n",
       "      <th>YEAR</th>\n",
       "      <th>ENROLL</th>\n",
       "      <th>TOTAL_REVENUE</th>\n",
       "      <th>FEDERAL_REVENUE</th>\n",
       "      <th>STATE_REVENUE</th>\n",
       "      <th>LOCAL_REVENUE</th>\n",
       "      <th>TOTAL_EXPENDITURE</th>\n",
       "      <th>INSTRUCTION_EXPENDITURE</th>\n",
       "      <th>...</th>\n",
       "      <th>GRADES_4_G</th>\n",
       "      <th>GRADES_8_G</th>\n",
       "      <th>GRADES_12_G</th>\n",
       "      <th>GRADES_1_8_G</th>\n",
       "      <th>GRADES_9_12_G</th>\n",
       "      <th>GRADES_ALL_G</th>\n",
       "      <th>AVG_MATH_4_SCORE</th>\n",
       "      <th>AVG_MATH_8_SCORE</th>\n",
       "      <th>AVG_READING_4_SCORE</th>\n",
       "      <th>AVG_READING_8_SCORE</th>\n",
       "    </tr>\n",
       "  </thead>\n",
       "  <tbody>\n",
       "    <tr>\n",
       "      <th>0</th>\n",
       "      <td>1992_ALABAMA</td>\n",
       "      <td>ALABAMA</td>\n",
       "      <td>1992</td>\n",
       "      <td>NaN</td>\n",
       "      <td>2678885.0</td>\n",
       "      <td>304177.0</td>\n",
       "      <td>1659028.0</td>\n",
       "      <td>715680.0</td>\n",
       "      <td>2653798.0</td>\n",
       "      <td>1481703.0</td>\n",
       "      <td>...</td>\n",
       "      <td>57948.0</td>\n",
       "      <td>58025.0</td>\n",
       "      <td>41167.0</td>\n",
       "      <td>471564.0</td>\n",
       "      <td>196386.0</td>\n",
       "      <td>676174.0</td>\n",
       "      <td>208.327876</td>\n",
       "      <td>252.187522</td>\n",
       "      <td>207.963517</td>\n",
       "      <td>NaN</td>\n",
       "    </tr>\n",
       "    <tr>\n",
       "      <th>1</th>\n",
       "      <td>1992_ALASKA</td>\n",
       "      <td>ALASKA</td>\n",
       "      <td>1992</td>\n",
       "      <td>NaN</td>\n",
       "      <td>1049591.0</td>\n",
       "      <td>106780.0</td>\n",
       "      <td>720711.0</td>\n",
       "      <td>222100.0</td>\n",
       "      <td>972488.0</td>\n",
       "      <td>498362.0</td>\n",
       "      <td>...</td>\n",
       "      <td>9748.0</td>\n",
       "      <td>8789.0</td>\n",
       "      <td>6714.0</td>\n",
       "      <td>79117.0</td>\n",
       "      <td>30847.0</td>\n",
       "      <td>112335.0</td>\n",
       "      <td>NaN</td>\n",
       "      <td>NaN</td>\n",
       "      <td>NaN</td>\n",
       "      <td>258.859712</td>\n",
       "    </tr>\n",
       "    <tr>\n",
       "      <th>2</th>\n",
       "      <td>1992_ARIZONA</td>\n",
       "      <td>ARIZONA</td>\n",
       "      <td>1992</td>\n",
       "      <td>NaN</td>\n",
       "      <td>3258079.0</td>\n",
       "      <td>297888.0</td>\n",
       "      <td>1369815.0</td>\n",
       "      <td>1590376.0</td>\n",
       "      <td>3401580.0</td>\n",
       "      <td>1435908.0</td>\n",
       "      <td>...</td>\n",
       "      <td>55433.0</td>\n",
       "      <td>49081.0</td>\n",
       "      <td>37410.0</td>\n",
       "      <td>437127.0</td>\n",
       "      <td>175210.0</td>\n",
       "      <td>614881.0</td>\n",
       "      <td>215.253932</td>\n",
       "      <td>265.366278</td>\n",
       "      <td>206.212716</td>\n",
       "      <td>262.169895</td>\n",
       "    </tr>\n",
       "    <tr>\n",
       "      <th>3</th>\n",
       "      <td>1992_ARKANSAS</td>\n",
       "      <td>ARKANSAS</td>\n",
       "      <td>1992</td>\n",
       "      <td>NaN</td>\n",
       "      <td>1711959.0</td>\n",
       "      <td>178571.0</td>\n",
       "      <td>958785.0</td>\n",
       "      <td>574603.0</td>\n",
       "      <td>1743022.0</td>\n",
       "      <td>964323.0</td>\n",
       "      <td>...</td>\n",
       "      <td>34632.0</td>\n",
       "      <td>36011.0</td>\n",
       "      <td>27651.0</td>\n",
       "      <td>281338.0</td>\n",
       "      <td>123113.0</td>\n",
       "      <td>405259.0</td>\n",
       "      <td>210.206028</td>\n",
       "      <td>256.312090</td>\n",
       "      <td>208.634458</td>\n",
       "      <td>264.619665</td>\n",
       "    </tr>\n",
       "    <tr>\n",
       "      <th>4</th>\n",
       "      <td>1992_CALIFORNIA</td>\n",
       "      <td>CALIFORNIA</td>\n",
       "      <td>1992</td>\n",
       "      <td>NaN</td>\n",
       "      <td>26260025.0</td>\n",
       "      <td>2072470.0</td>\n",
       "      <td>16546514.0</td>\n",
       "      <td>7641041.0</td>\n",
       "      <td>27138832.0</td>\n",
       "      <td>14358922.0</td>\n",
       "      <td>...</td>\n",
       "      <td>418418.0</td>\n",
       "      <td>363296.0</td>\n",
       "      <td>270675.0</td>\n",
       "      <td>3286034.0</td>\n",
       "      <td>1372011.0</td>\n",
       "      <td>4717112.0</td>\n",
       "      <td>208.398961</td>\n",
       "      <td>260.892247</td>\n",
       "      <td>196.764414</td>\n",
       "      <td>NaN</td>\n",
       "    </tr>\n",
       "  </tbody>\n",
       "</table>\n",
       "<p>5 rows × 25 columns</p>\n",
       "</div>"
      ],
      "text/plain": [
       "       PRIMARY_KEY       STATE  YEAR  ENROLL  TOTAL_REVENUE  FEDERAL_REVENUE  \\\n",
       "0     1992_ALABAMA     ALABAMA  1992     NaN      2678885.0         304177.0   \n",
       "1      1992_ALASKA      ALASKA  1992     NaN      1049591.0         106780.0   \n",
       "2     1992_ARIZONA     ARIZONA  1992     NaN      3258079.0         297888.0   \n",
       "3    1992_ARKANSAS    ARKANSAS  1992     NaN      1711959.0         178571.0   \n",
       "4  1992_CALIFORNIA  CALIFORNIA  1992     NaN     26260025.0        2072470.0   \n",
       "\n",
       "   STATE_REVENUE  LOCAL_REVENUE  TOTAL_EXPENDITURE  INSTRUCTION_EXPENDITURE  \\\n",
       "0      1659028.0       715680.0          2653798.0                1481703.0   \n",
       "1       720711.0       222100.0           972488.0                 498362.0   \n",
       "2      1369815.0      1590376.0          3401580.0                1435908.0   \n",
       "3       958785.0       574603.0          1743022.0                 964323.0   \n",
       "4     16546514.0      7641041.0         27138832.0               14358922.0   \n",
       "\n",
       "   ...  GRADES_4_G  GRADES_8_G  GRADES_12_G  GRADES_1_8_G  GRADES_9_12_G  \\\n",
       "0  ...     57948.0     58025.0      41167.0      471564.0       196386.0   \n",
       "1  ...      9748.0      8789.0       6714.0       79117.0        30847.0   \n",
       "2  ...     55433.0     49081.0      37410.0      437127.0       175210.0   \n",
       "3  ...     34632.0     36011.0      27651.0      281338.0       123113.0   \n",
       "4  ...    418418.0    363296.0     270675.0     3286034.0      1372011.0   \n",
       "\n",
       "   GRADES_ALL_G  AVG_MATH_4_SCORE  AVG_MATH_8_SCORE  AVG_READING_4_SCORE  \\\n",
       "0      676174.0        208.327876        252.187522           207.963517   \n",
       "1      112335.0               NaN               NaN                  NaN   \n",
       "2      614881.0        215.253932        265.366278           206.212716   \n",
       "3      405259.0        210.206028        256.312090           208.634458   \n",
       "4     4717112.0        208.398961        260.892247           196.764414   \n",
       "\n",
       "   AVG_READING_8_SCORE  \n",
       "0                  NaN  \n",
       "1           258.859712  \n",
       "2           262.169895  \n",
       "3           264.619665  \n",
       "4                  NaN  \n",
       "\n",
       "[5 rows x 25 columns]"
      ]
     },
     "execution_count": 60,
     "metadata": {},
     "output_type": "execute_result"
    }
   ],
   "source": [
    "df.head()"
   ]
  },
  {
   "cell_type": "code",
   "execution_count": 22,
   "metadata": {},
   "outputs": [
    {
     "name": "stdout",
     "output_type": "stream",
     "text": [
      "Unique counts in column PRIMARY_KEY are: 1487\n",
      "Unique counts in column STATE are: 80\n",
      "Unique counts in column YEAR are: 26\n",
      "Unique counts in column ENROLL are: 1224\n",
      "Unique counts in column TOTAL_REVENUE are: 1274\n",
      "Unique counts in column FEDERAL_REVENUE are: 1275\n",
      "Unique counts in column STATE_REVENUE are: 1251\n",
      "Unique counts in column LOCAL_REVENUE are: 1275\n",
      "Unique counts in column TOTAL_EXPENDITURE are: 1275\n",
      "Unique counts in column INSTRUCTION_EXPENDITURE are: 1275\n",
      "Unique counts in column SUPPORT_SERVICES_EXPENDITURE are: 1275\n",
      "Unique counts in column OTHER_EXPENDITURE are: 1222\n",
      "Unique counts in column CAPITAL_OUTLAY_EXPENDITURE are: 1275\n",
      "Unique counts in column GRADES_PK_G are: 1261\n",
      "Unique counts in column GRADES_KG_G are: 1348\n",
      "Unique counts in column GRADES_4_G are: 1340\n",
      "Unique counts in column GRADES_8_G are: 1347\n",
      "Unique counts in column GRADES_12_G are: 1342\n",
      "Unique counts in column GRADES_1_8_G are: 1360\n",
      "Unique counts in column GRADES_9_12_G are: 1358\n",
      "Unique counts in column GRADES_ALL_G are: 1318\n",
      "Unique counts in column AVG_MATH_4_SCORE are: 535\n",
      "Unique counts in column AVG_MATH_8_SCORE are: 531\n",
      "Unique counts in column AVG_READING_4_SCORE are: 532\n",
      "Unique counts in column AVG_READING_8_SCORE are: 497\n"
     ]
    }
   ],
   "source": [
    "for column_name in df.columns:\n",
    "    print(\"Unique counts in column {} are: {}\".format(column_name, df[column_name].nunique()))"
   ]
  },
  {
   "cell_type": "code",
   "execution_count": 23,
   "metadata": {},
   "outputs": [
    {
     "data": {
      "text/plain": [
       "PRIMARY_KEY                      0.000000\n",
       "STATE                            0.000000\n",
       "YEAR                             0.000000\n",
       "ENROLL                          17.627346\n",
       "TOTAL_REVENUE                   14.209115\n",
       "FEDERAL_REVENUE                 14.209115\n",
       "STATE_REVENUE                   14.209115\n",
       "LOCAL_REVENUE                   14.209115\n",
       "TOTAL_EXPENDITURE               14.209115\n",
       "INSTRUCTION_EXPENDITURE         14.209115\n",
       "SUPPORT_SERVICES_EXPENDITURE    14.209115\n",
       "OTHER_EXPENDITURE               17.627346\n",
       "CAPITAL_OUTLAY_EXPENDITURE      14.209115\n",
       "GRADES_PK_G                     11.595174\n",
       "GRADES_KG_G                      8.847185\n",
       "GRADES_4_G                       8.780161\n",
       "GRADES_8_G                       8.780161\n",
       "GRADES_12_G                      8.780161\n",
       "GRADES_1_8_G                     8.780161\n",
       "GRADES_9_12_G                    8.780161\n",
       "GRADES_ALL_G                    11.595174\n",
       "AVG_MATH_4_SCORE                64.075067\n",
       "AVG_MATH_8_SCORE                64.343164\n",
       "AVG_READING_4_SCORE             64.276139\n",
       "AVG_READING_8_SCORE             66.621984\n",
       "dtype: float64"
      ]
     },
     "execution_count": 23,
     "metadata": {},
     "output_type": "execute_result"
    }
   ],
   "source": [
    "df.isnull().sum()*100/df.isnull().count()"
   ]
  },
  {
   "cell_type": "markdown",
   "metadata": {},
   "source": [
    "QUESTION 2: Notice that the data has a time dimension (year). For this assignment, forget about time and treat all the observations as if they're from the same year. Choose a strategy to deal with the missing values for each variables. For which variables would filling in the missing values with some value make sense? For which might tossing out the records entirely make sense?\n",
    "\n",
    "ANSWER: The most accruate way to fill in data caps would be to sort that data by 'STATE' and then by 'YEAR' first. This lets us know, for instatnce, that we have no financial data (ENROLL, REVENUE columns, EXPENDITURE columns) for American Samoa and the Bureau of Indian Affairs, Commonwealth of Marianas, Guam, etc. for example, so there is no way to interpolate in these cases.\n",
    "\n",
    "For states where we do have data for most years, the best way to fill in the blanks seems to be the median value for the column. This approach will work for the REVENUE and EXPENSE columns as well as for the GRADES columns (which list number of students in each grade group).\n",
    "\n"
   ]
  },
  {
   "cell_type": "code",
   "execution_count": 76,
   "metadata": {},
   "outputs": [],
   "source": [
    "def fill_by_state (df, column):\n",
    "    df[column] = df.groupby('STATE')[column].apply(lambda x: x.fillna(x.mean()))\n",
    "\n",
    "fill_by_state(df, 'ENROLL')\n",
    "fill_by_state(df, 'TOTAL_REVENUE')   \n",
    "fill_by_state(df, 'FEDERAL_REVENUE')\n",
    "fill_by_state(df, 'STATE_REVENUE')\n",
    "fill_by_state(df, 'LOCAL_REVENUE')\n",
    "fill_by_state(df, 'TOTAL_EXPENDITURE')\n",
    "fill_by_state(df, 'INSTRUCTION_EXPENDITURE')\n",
    "fill_by_state(df, 'SUPPORT_SERVICES_EXPENDITURE')\n",
    "fill_by_state(df, 'OTHER_EXPENDITURE')\n",
    "fill_by_state(df, 'CAPITAL_OUTLAY_EXPENDITURE')\n",
    "fill_by_state(df, 'GRADES_PK_G')\n",
    "fill_by_state(df, 'GRADES_KG_G')\n",
    "fill_by_state(df, 'GRADES_4_G')\n",
    "fill_by_state(df, 'GRADES_8_G')\n",
    "fill_by_state(df, 'GRADES_12_G')\n",
    "fill_by_state(df, 'GRADES_1_8_G')\n",
    "fill_by_state(df, 'GRADES_9_12_G')\n",
    "fill_by_state(df, 'GRADES_ALL_G')\n",
    "fill_by_state(df, 'AVG_MATH_4_SCORE')\n",
    "fill_by_state(df, 'AVG_MATH_8_SCORE')\n",
    "fill_by_state(df, 'AVG_READING_4_SCORE')\n",
    "fill_by_state(df, 'AVG_READING_8_SCORE')"
   ]
  },
  {
   "cell_type": "code",
   "execution_count": 78,
   "metadata": {},
   "outputs": [
    {
     "data": {
      "text/plain": [
       "PRIMARY_KEY                      0.000000\n",
       "STATE                            0.000000\n",
       "YEAR                             0.000000\n",
       "ENROLL                          10.790885\n",
       "TOTAL_REVENUE                   10.790885\n",
       "FEDERAL_REVENUE                 10.790885\n",
       "STATE_REVENUE                   10.790885\n",
       "LOCAL_REVENUE                   10.790885\n",
       "TOTAL_EXPENDITURE               10.790885\n",
       "INSTRUCTION_EXPENDITURE         10.790885\n",
       "SUPPORT_SERVICES_EXPENDITURE    10.790885\n",
       "OTHER_EXPENDITURE               10.790885\n",
       "CAPITAL_OUTLAY_EXPENDITURE      10.790885\n",
       "GRADES_PK_G                      2.747989\n",
       "GRADES_KG_G                      0.268097\n",
       "GRADES_4_G                       0.268097\n",
       "GRADES_8_G                       0.268097\n",
       "GRADES_12_G                      0.268097\n",
       "GRADES_1_8_G                     0.268097\n",
       "GRADES_9_12_G                    0.268097\n",
       "GRADES_ALL_G                     2.747989\n",
       "AVG_MATH_4_SCORE                10.790885\n",
       "AVG_MATH_8_SCORE                10.790885\n",
       "AVG_READING_4_SCORE             10.790885\n",
       "AVG_READING_8_SCORE             10.790885\n",
       "dtype: float64"
      ]
     },
     "execution_count": 78,
     "metadata": {},
     "output_type": "execute_result"
    }
   ],
   "source": [
    "df.isnull().sum()*100/df.isnull().count()"
   ]
  },
  {
   "cell_type": "markdown",
   "metadata": {},
   "source": [
    "QUESTION 3: Now, take into account the time factor. Replicate your second answer but this time fill in the missing values by using a statistic that is calculated within the year of the observation. For example, if you want to fill a missing value for a variable with the mean of that variable, calculate the mean by using only the observations for that specific year.\n",
    "\n",
    "ANSWER: This approach led to a higher fill rate for some attributes (REVENUEs, EXPENDITUREs) but a much higher null rate for the four AVG columns (57% vs. 10% null). The lower null rates for the other attributes are not accurate though, because they are averages across all values for that year, not based on the specific geographical location (ex. averages inserted for American Samoa, for which we have no data). "
   ]
  },
  {
   "cell_type": "code",
   "execution_count": 84,
   "metadata": {},
   "outputs": [],
   "source": [
    "def fill_by_year (df, column):\n",
    "    df[column] = df.groupby('YEAR')[column].apply(lambda x: x.fillna(x.mean()))\n",
    "    \n",
    "fill_by_year(df, 'ENROLL')\n",
    "fill_by_year(df, 'TOTAL_REVENUE')   \n",
    "fill_by_year(df, 'FEDERAL_REVENUE')\n",
    "fill_by_year(df, 'STATE_REVENUE')\n",
    "fill_by_year(df, 'LOCAL_REVENUE')\n",
    "fill_by_year(df, 'TOTAL_EXPENDITURE')\n",
    "fill_by_year(df, 'INSTRUCTION_EXPENDITURE')\n",
    "fill_by_year(df, 'SUPPORT_SERVICES_EXPENDITURE')\n",
    "fill_by_year(df, 'OTHER_EXPENDITURE')\n",
    "fill_by_year(df, 'CAPITAL_OUTLAY_EXPENDITURE')\n",
    "fill_by_year(df, 'GRADES_PK_G')\n",
    "fill_by_year(df, 'GRADES_KG_G')\n",
    "fill_by_year(df, 'GRADES_4_G')\n",
    "fill_by_year(df, 'GRADES_8_G')\n",
    "fill_by_year(df, 'GRADES_12_G')\n",
    "fill_by_year(df, 'GRADES_1_8_G')\n",
    "fill_by_year(df, 'GRADES_9_12_G')\n",
    "fill_by_year(df, 'GRADES_ALL_G')\n",
    "fill_by_year(df, 'AVG_MATH_4_SCORE')\n",
    "fill_by_year(df, 'AVG_MATH_8_SCORE')\n",
    "fill_by_year(df, 'AVG_READING_4_SCORE')\n",
    "fill_by_year(df, 'AVG_READING_8_SCORE')"
   ]
  },
  {
   "cell_type": "code",
   "execution_count": 85,
   "metadata": {},
   "outputs": [
    {
     "data": {
      "text/plain": [
       "PRIMARY_KEY                      0.000000\n",
       "STATE                            0.000000\n",
       "YEAR                             0.000000\n",
       "ENROLL                           7.171582\n",
       "TOTAL_REVENUE                    3.418231\n",
       "FEDERAL_REVENUE                  3.418231\n",
       "STATE_REVENUE                    3.418231\n",
       "LOCAL_REVENUE                    3.418231\n",
       "TOTAL_EXPENDITURE                3.418231\n",
       "INSTRUCTION_EXPENDITURE          3.418231\n",
       "SUPPORT_SERVICES_EXPENDITURE     3.418231\n",
       "OTHER_EXPENDITURE                7.171582\n",
       "CAPITAL_OUTLAY_EXPENDITURE       3.418231\n",
       "GRADES_PK_G                      6.836461\n",
       "GRADES_KG_G                      6.836461\n",
       "GRADES_4_G                       6.836461\n",
       "GRADES_8_G                       6.836461\n",
       "GRADES_12_G                      6.836461\n",
       "GRADES_1_8_G                     6.836461\n",
       "GRADES_9_12_G                    6.836461\n",
       "GRADES_ALL_G                     6.836461\n",
       "AVG_MATH_4_SCORE                57.640751\n",
       "AVG_MATH_8_SCORE                57.640751\n",
       "AVG_READING_4_SCORE             57.640751\n",
       "AVG_READING_8_SCORE             57.640751\n",
       "dtype: float64"
      ]
     },
     "execution_count": 85,
     "metadata": {},
     "output_type": "execute_result"
    }
   ],
   "source": [
    "df.isnull().sum()*100/df.isnull().count()"
   ]
  },
  {
   "cell_type": "markdown",
   "metadata": {},
   "source": [
    "QUESTION 4: This time, fill in the missing values using interpolation (extrapolation).\n",
    "\n",
    "ANSWER: By using linear interpolation forwards (default) and backwards, I was able to reduce gaps to 0 for all attributes. I could not find a lot of data about the different interpolation methods and when to choose each kind."
   ]
  },
  {
   "cell_type": "code",
   "execution_count": 93,
   "metadata": {},
   "outputs": [],
   "source": [
    "df = df.interpolate()\n",
    "df = df.interpolate(method ='linear', limit_direction ='backward')"
   ]
  },
  {
   "cell_type": "code",
   "execution_count": 94,
   "metadata": {},
   "outputs": [
    {
     "data": {
      "text/plain": [
       "PRIMARY_KEY                     0.0\n",
       "STATE                           0.0\n",
       "YEAR                            0.0\n",
       "ENROLL                          0.0\n",
       "TOTAL_REVENUE                   0.0\n",
       "FEDERAL_REVENUE                 0.0\n",
       "STATE_REVENUE                   0.0\n",
       "LOCAL_REVENUE                   0.0\n",
       "TOTAL_EXPENDITURE               0.0\n",
       "INSTRUCTION_EXPENDITURE         0.0\n",
       "SUPPORT_SERVICES_EXPENDITURE    0.0\n",
       "OTHER_EXPENDITURE               0.0\n",
       "CAPITAL_OUTLAY_EXPENDITURE      0.0\n",
       "GRADES_PK_G                     0.0\n",
       "GRADES_KG_G                     0.0\n",
       "GRADES_4_G                      0.0\n",
       "GRADES_8_G                      0.0\n",
       "GRADES_12_G                     0.0\n",
       "GRADES_1_8_G                    0.0\n",
       "GRADES_9_12_G                   0.0\n",
       "GRADES_ALL_G                    0.0\n",
       "AVG_MATH_4_SCORE                0.0\n",
       "AVG_MATH_8_SCORE                0.0\n",
       "AVG_READING_4_SCORE             0.0\n",
       "AVG_READING_8_SCORE             0.0\n",
       "dtype: float64"
      ]
     },
     "execution_count": 94,
     "metadata": {},
     "output_type": "execute_result"
    }
   ],
   "source": [
    "df.isnull().sum()*100/df.isnull().count()"
   ]
  },
  {
   "attachments": {},
   "cell_type": "markdown",
   "metadata": {},
   "source": [
    "QUESTION 5: Compare your results for the 2nd, 3rd, and 4th questions. Do you find any meaningful differences?\n",
    "    \n",
    "ANSWER: Interpolation resulted in lots of rows with identical data (ex. 89711! appears 37 times in ENROLL). While I was able to get a complete gap fill, I do not have confidence in the accuracy of the gap fill. Grouping by state and then using mean seems the most accurate even though it leaves gaps. I am going to try grouping by state and then using interpolate below."
   ]
  },
  {
   "cell_type": "code",
   "execution_count": 115,
   "metadata": {},
   "outputs": [],
   "source": [
    "def interpolate_by_state (df, column):\n",
    "    df[column] = df.groupby('STATE')[column].apply(lambda group: group.interpolate())\n",
    "    df[column] = df.groupby('STATE')[column].apply(lambda group: group.interpolate(method ='linear', limit_direction ='backward'))\n",
    "\n",
    "interpolate_by_state(df, 'ENROLL')\n",
    "interpolate_by_state(df, 'TOTAL_REVENUE')   \n",
    "interpolate_by_state(df, 'FEDERAL_REVENUE')\n",
    "interpolate_by_state(df, 'STATE_REVENUE')\n",
    "interpolate_by_state(df, 'LOCAL_REVENUE')\n",
    "interpolate_by_state(df, 'TOTAL_EXPENDITURE')\n",
    "interpolate_by_state(df, 'INSTRUCTION_EXPENDITURE')\n",
    "interpolate_by_state(df, 'SUPPORT_SERVICES_EXPENDITURE')\n",
    "interpolate_by_state(df, 'OTHER_EXPENDITURE')\n",
    "interpolate_by_state(df, 'CAPITAL_OUTLAY_EXPENDITURE')\n",
    "interpolate_by_state(df, 'GRADES_PK_G')\n",
    "interpolate_by_state(df, 'GRADES_KG_G')\n",
    "interpolate_by_state(df, 'GRADES_4_G')\n",
    "interpolate_by_state(df, 'GRADES_8_G')\n",
    "interpolate_by_state(df, 'GRADES_12_G')\n",
    "interpolate_by_state(df, 'GRADES_1_8_G')\n",
    "interpolate_by_state(df, 'GRADES_9_12_G')\n",
    "interpolate_by_state(df, 'GRADES_ALL_G')\n",
    "interpolate_by_state(df, 'AVG_MATH_4_SCORE')\n",
    "interpolate_by_state(df, 'AVG_MATH_8_SCORE')\n",
    "interpolate_by_state(df, 'AVG_READING_4_SCORE')\n",
    "interpolate_by_state(df, 'AVG_READING_8_SCORE')"
   ]
  },
  {
   "cell_type": "code",
   "execution_count": 116,
   "metadata": {},
   "outputs": [
    {
     "data": {
      "text/plain": [
       "PRIMARY_KEY                      0.000000\n",
       "STATE                            0.000000\n",
       "YEAR                             0.000000\n",
       "ENROLL                          10.790885\n",
       "TOTAL_REVENUE                   10.790885\n",
       "FEDERAL_REVENUE                 10.790885\n",
       "STATE_REVENUE                   10.790885\n",
       "LOCAL_REVENUE                   10.790885\n",
       "TOTAL_EXPENDITURE               10.790885\n",
       "INSTRUCTION_EXPENDITURE         10.790885\n",
       "SUPPORT_SERVICES_EXPENDITURE    10.790885\n",
       "OTHER_EXPENDITURE               10.790885\n",
       "CAPITAL_OUTLAY_EXPENDITURE      10.790885\n",
       "GRADES_PK_G                      2.747989\n",
       "GRADES_KG_G                      0.268097\n",
       "GRADES_4_G                       0.268097\n",
       "GRADES_8_G                       0.268097\n",
       "GRADES_12_G                      0.268097\n",
       "GRADES_1_8_G                     0.268097\n",
       "GRADES_9_12_G                    0.268097\n",
       "GRADES_ALL_G                     2.747989\n",
       "AVG_MATH_4_SCORE                10.790885\n",
       "AVG_MATH_8_SCORE                10.790885\n",
       "AVG_READING_4_SCORE             10.790885\n",
       "AVG_READING_8_SCORE             10.790885\n",
       "dtype: float64"
      ]
     },
     "execution_count": 116,
     "metadata": {},
     "output_type": "execute_result"
    }
   ],
   "source": [
    "df.isnull().sum()*100/df.isnull().count()"
   ]
  }
 ],
 "metadata": {
  "kernelspec": {
   "display_name": "Python 3",
   "language": "python",
   "name": "python3"
  },
  "language_info": {
   "codemirror_mode": {
    "name": "ipython",
    "version": 3
   },
   "file_extension": ".py",
   "mimetype": "text/x-python",
   "name": "python",
   "nbconvert_exporter": "python",
   "pygments_lexer": "ipython3",
   "version": "3.6.8"
  }
 },
 "nbformat": 4,
 "nbformat_minor": 2
}

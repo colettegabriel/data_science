{
 "cells": [
  {
   "cell_type": "code",
   "execution_count": null,
   "metadata": {},
   "outputs": [],
   "source": [
    "import numpy as np\n",
    "import pandas as pd\n",
    "import matplotlib.pyplot as plt\n",
    "import scipy\n",
    "import random\n",
    "from sklearn.neighbors import KNeighborsClassifier\n",
    "%matplotlib inline"
   ]
  },
  {
   "cell_type": "code",
   "execution_count": null,
   "metadata": {},
   "outputs": [],
   "source": [
    "df = pd.DataFrame()\n",
    "\n",
    "# Some data to play with.\n",
    "df['duration'] = [184, 134, 243, 186, 122, 197, 294, 382, 102, 264, \n",
    "                     205, 110, 307, 110, 397, 153, 190, 192, 210, 403,\n",
    "                     164, 198, 204, 253, 234, 190, 182, 401, 376, 102]\n",
    "df['loudness'] = [18, 34, 43, 36, 22, 9, 29, 22, 10, 24, \n",
    "                     20, 10, 17, 51, 7, 13, 19, 12, 21, 22,\n",
    "                     16, 18, 4, 23, 34, 19, 14, 11, 37, 42]\n",
    "\n",
    "# We know whether the songs in our training data are jazz or not.\n",
    "df['jazz'] = [ 1, 0, 0, 0, 1, 1, 0, 1, 1, 0,\n",
    "                  0, 1, 1, 0, 1, 1, 0, 1, 1, 1,\n",
    "                  1, 1, 1, 1, 0, 0, 1, 1, 0, 0]"
   ]
  },
  {
   "cell_type": "code",
   "execution_count": null,
   "metadata": {},
   "outputs": [],
   "source": [
    "#make sure vector lengths are the same\n",
    "len (df['duration']) == len(df['loudness'])"
   ]
  },
  {
   "cell_type": "code",
   "execution_count": null,
   "metadata": {},
   "outputs": [],
   "source": [
    "def train_test(df):\n",
    "    test_df = df.sample(frac=0.3)\n",
    "    test_df = test_df.reset_index()\n",
    "    train_df = df.drop(test_df.index)\n",
    "    train_df = train_df.reset_index()\n",
    "\n",
    "    return train_df, test_df\n",
    "\n",
    "\n",
    "def distance(train, test, length):\n",
    "    dist = 0\n",
    "\n",
    "    for i in range(length):\n",
    "        dist += np.square(train-test)\n",
    "    \n",
    "    return np.sqrt(dist)\n",
    "\n",
    "\n",
    "def knn_predict(train_df, train_instance, k):\n",
    "    distances =[]\n",
    "    knn = []\n",
    "    length = len(train_df)-1\n",
    "    \n",
    "    for i in range(len(train_df)):\n",
    "        dist = distance(train_df, test_df[i], length)\n",
    "        distances.append((train_df[i], dist))\n",
    "    distances.sort(key=operator.itemgetter(1))\n",
    "                         \n",
    "    for j in range(k):\n",
    "        knn.append(distances[j][0])\n",
    "\n",
    "    return knn\n",
    "\n",
    "def vote(neighbors):\n",
    "    votes = []\n",
    "    \n",
    "    for i in range(len(neighbors)):\n",
    "        answer = neighbors[i][-1]\n",
    "        if answer in votes:\n",
    "            votes[answer] += 1\n",
    "        else:\n",
    "            votes[answer] = 1\n",
    "    #sort list of votes based on frequency\n",
    "    vote_sort = sorted(votes.items(), key=operator.itemgetter(1), reverse=True)\n",
    "    #return only the most voted for answer\n",
    "    return vote_sort[0][0]"
   ]
  },
  {
   "cell_type": "code",
   "execution_count": null,
   "metadata": {},
   "outputs": [],
   "source": [
    "#create testing and training datasets\n",
    "train_df, test_df = train_test(df)"
   ]
  },
  {
   "cell_type": "code",
   "execution_count": null,
   "metadata": {},
   "outputs": [],
   "source": [
    "predict = []\n",
    "k = 5\n",
    "\n",
    "for i in range(len(test_df)):\n",
    "    neighbors = knn_predict(train_df, test_df[i], k)\n",
    "    result = vote(neighbors)\n",
    "    predict.append(result)\n",
    "    print('Predicted = ' + repr(result) + ', Actual = ' + repr(test_df[i][-1]))"
   ]
  }
 ],
 "metadata": {
  "kernelspec": {
   "display_name": "Python 3",
   "language": "python",
   "name": "python3"
  },
  "language_info": {
   "codemirror_mode": {
    "name": "ipython",
    "version": 3
   },
   "file_extension": ".py",
   "mimetype": "text/x-python",
   "name": "python",
   "nbconvert_exporter": "python",
   "pygments_lexer": "ipython3",
   "version": "3.7.3"
  }
 },
 "nbformat": 4,
 "nbformat_minor": 2
}

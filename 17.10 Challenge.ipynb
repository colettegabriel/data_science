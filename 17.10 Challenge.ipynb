{
 "cells": [
  {
   "cell_type": "code",
   "execution_count": 2,
   "metadata": {},
   "outputs": [],
   "source": [
    "import numpy as np\n",
    "import os\n",
    "from skimage.io import imread_collection"
   ]
  },
  {
   "cell_type": "code",
   "execution_count": 3,
   "metadata": {},
   "outputs": [],
   "source": [
    "imgs = imread_collection('/Users/colette/Downloads/style-color-images/style/*.png')"
   ]
  },
  {
   "cell_type": "code",
   "execution_count": 5,
   "metadata": {},
   "outputs": [
    {
     "data": {
      "text/plain": [
       "2184"
      ]
     },
     "execution_count": 5,
     "metadata": {},
     "output_type": "execute_result"
    }
   ],
   "source": [
    "len(imgs)"
   ]
  },
  {
   "cell_type": "code",
   "execution_count": null,
   "metadata": {},
   "outputs": [],
   "source": [
    "from skimage.transform import resize\n",
    "\n",
    "imgs = [resize(x,(77,65), mode='constant', anti_aliasing=False) for x in imgs]\n",
    "flatImgs = [x.flatten() for x in imgs]\n",
    "\n",
    "df = pd.read_csv('/Users/colette/Downloads/style-color-images/style/style.csv')"
   ]
  },
  {
   "cell_type": "code",
   "execution_count": null,
   "metadata": {},
   "outputs": [],
   "source": [
    "from sklearn.neural_network import BernoulliRBM\n",
    "from sklearn.linear_model import LogisticRegression\n",
    "\n",
    "rbm = BernoulliRBM(learning_rate=.01, n_iter=20, n_components=150)\n",
    "\n",
    "logistic = LogisticRegression(solver='lbfgs', \n",
    "                 max_iter=10000,C=6000, multi_class='multinomial')\n",
    "\n",
    "#Combine the two into a Pipeline\n",
    "rbm_features_classifier = Pipeline(steps=[('rbm', rbm), ('logistic', logistic)])"
   ]
  },
  {
   "cell_type": "code",
   "execution_count": null,
   "metadata": {},
   "outputs": [],
   "source": [
    "X_train = pd.read_csv('/Users/colette/Downloads/style-color-images/style/style.csv').values[:,1:]\n",
    "X_train = (X_train - np.min(X_train, 0)) / (np.max(X_train, 0) + 0.0001)  # 0-1 scaling"
   ]
  },
  {
   "cell_type": "code",
   "execution_count": null,
   "metadata": {},
   "outputs": [],
   "source": [
    "rbm_features_classifier.fit(flatImgs, Y)"
   ]
  },
  {
   "cell_type": "code",
   "execution_count": null,
   "metadata": {},
   "outputs": [],
   "source": [
    "Y_pred = rbm_features_classifier.predict(flatImgs)\n",
    "\n",
    "from sklearn import metrics\n",
    "metrics.classification_report(Y, Y_pred)"
   ]
  },
  {
   "cell_type": "code",
   "execution_count": null,
   "metadata": {},
   "outputs": [],
   "source": [
    "import matplotlib.pyplot as plt\n",
    "from skimage.io import imshow\n",
    "\n",
    "plt.figure(figsize=(15, 15))\n",
    "for i, comp in enumerate(rbm.components_[:150]):\n",
    "    plt.subplot(15, 10, i + 1)\n",
    "    plt.imshow(comp.reshape((77, 65)), cmap=plt.cm.gray_r,\n",
    "        interpolation='nearest')    \n",
    "    plt.xticks(())\n",
    "    plt.yticks(())\n",
    "plt.subplots_adjust(0.08, 0.02, 0.92, 0.85, 0.08, 0.23)\n",
    "plt.show()"
   ]
  },
  {
   "cell_type": "code",
   "execution_count": null,
   "metadata": {},
   "outputs": [],
   "source": [
    "# Selected features for closer examination\n",
    "toShow = [104,116,84]\n",
    "\n",
    "plt.figure(figsize=(16, 10))\n",
    "for i, comp in enumerate(toShow):\n",
    "    plt.subplot(1,3,i+1)\n",
    "    plt.imshow(rbm.components_[comp].reshape((77, 65)), cmap=plt.cm.gray_r,\n",
    "        interpolation='nearest')\n",
    "    plt.xticks(())\n",
    "    plt.yticks(())\n",
    "plt.show()"
   ]
  },
  {
   "cell_type": "code",
   "execution_count": null,
   "metadata": {},
   "outputs": [],
   "source": [
    "#Create a target variable: an ID between 1 and 15 for each of the 15 subjects\n",
    "Y = [[id for pose in range(1,12)] for id in range(1,16)]\n",
    "#Flatten the 'list of lists' into a 2D list\n",
    "Y = [num for sublist in Y for num in sublist]"
   ]
  }
 ],
 "metadata": {
  "kernelspec": {
   "display_name": "Python 3",
   "language": "python",
   "name": "python3"
  },
  "language_info": {
   "codemirror_mode": {
    "name": "ipython",
    "version": 3
   },
   "file_extension": ".py",
   "mimetype": "text/x-python",
   "name": "python",
   "nbconvert_exporter": "python",
   "pygments_lexer": "ipython3",
   "version": "3.7.4"
  }
 },
 "nbformat": 4,
 "nbformat_minor": 2
}

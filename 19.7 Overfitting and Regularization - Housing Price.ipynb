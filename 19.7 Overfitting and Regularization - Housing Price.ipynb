{
 "cells": [
  {
   "cell_type": "code",
   "execution_count": 61,
   "metadata": {},
   "outputs": [],
   "source": [
    "import matplotlib.pyplot as plt\n",
    "import numpy as np\n",
    "import pandas as pd\n",
    "from sklearn.linear_model import LinearRegression, LassoCV, RidgeCV, ElasticNetCV\n",
    "from sklearn.model_selection import train_test_split\n",
    "from sklearn.metrics import mean_absolute_error\n",
    "import statsmodels.api as sm\n",
    "from statsmodels.tools.eval_measures import mse, rmse\n",
    "from sqlalchemy import create_engine\n",
    "\n",
    "import warnings\n",
    "warnings.filterwarnings('ignore')\n",
    "\n",
    "postgres_user = 'dsbc_student'\n",
    "postgres_pw = '7*.8G9QH21'\n",
    "postgres_host = '142.93.121.174'\n",
    "postgres_port = '5432'\n",
    "postgres_db = 'houseprices'"
   ]
  },
  {
   "cell_type": "code",
   "execution_count": 62,
   "metadata": {},
   "outputs": [],
   "source": [
    "engine = create_engine('postgresql://{}:{}@{}:{}/{}'.format(\n",
    "    postgres_user, postgres_pw, postgres_host, postgres_port, postgres_db))\n",
    "df = pd.read_sql_query('select * from houseprices',con=engine)\n",
    "\n",
    "# no need for an open connection, as we're only doing a single query\n",
    "engine.dispose()"
   ]
  },
  {
   "cell_type": "code",
   "execution_count": 63,
   "metadata": {},
   "outputs": [],
   "source": [
    "df = pd.concat([df,pd.get_dummies(df.mszoning, prefix=\"mszoning\", drop_first=True)], axis=1)\n",
    "df = pd.concat([df,pd.get_dummies(df.street, prefix=\"street\", drop_first=True)], axis=1)\n",
    "\n",
    "dummy_column_names = list(pd.get_dummies(df.mszoning, prefix=\"mszoning\", drop_first=True).columns)\n",
    "dummy_column_names = dummy_column_names + list(pd.get_dummies(df.street, prefix=\"street\", drop_first=True).columns)"
   ]
  },
  {
   "cell_type": "code",
   "execution_count": 64,
   "metadata": {},
   "outputs": [],
   "source": [
    "#create variable that includes total number of baths to see if this improves the model\n",
    "df['total_bath'] = df['fullbath']+df['halfbath']+df['bsmtfullbath']+df['bsmthalfbath']\n",
    "#variable that combines all the outdoor square footage\n",
    "df['outdoor'] = df['openporchsf']*df['lotarea']*df['wooddecksf']\n",
    "#variable that gets the toal square footage of each house\n",
    "df['totalsf'] = df['totalbsmtsf'] + df['firstflrsf'] + df['secondflrsf']"
   ]
  },
  {
   "cell_type": "markdown",
   "metadata": {},
   "source": [
    "# OLS Regression"
   ]
  },
  {
   "cell_type": "code",
   "execution_count": 65,
   "metadata": {},
   "outputs": [
    {
     "name": "stdout",
     "output_type": "stream",
     "text": [
      "The number of observations in training set is 1168\n",
      "The number of observations in test set is 292\n"
     ]
    }
   ],
   "source": [
    "# Y is the target variable\n",
    "Y = np.log1p(df['saleprice'])\n",
    "# X is the feature set\n",
    "X = df[['overallqual', 'grlivarea', 'garagecars', 'totalsf', 'mszoning_FV', 'mszoning_RL',\n",
    "                     'total_bath', 'yearremodadd']]\n",
    "\n",
    "X_train, X_test, y_train, y_test = train_test_split(X, Y, test_size = 0.2, random_state = 465)\n",
    "\n",
    "print(\"The number of observations in training set is {}\".format(X_train.shape[0]))\n",
    "print(\"The number of observations in test set is {}\".format(X_test.shape[0]))"
   ]
  },
  {
   "cell_type": "code",
   "execution_count": 66,
   "metadata": {},
   "outputs": [
    {
     "data": {
      "text/html": [
       "<table class=\"simpletable\">\n",
       "<caption>OLS Regression Results</caption>\n",
       "<tr>\n",
       "  <th>Dep. Variable:</th>        <td>saleprice</td>    <th>  R-squared:         </th> <td>   0.836</td>\n",
       "</tr>\n",
       "<tr>\n",
       "  <th>Model:</th>                   <td>OLS</td>       <th>  Adj. R-squared:    </th> <td>   0.835</td>\n",
       "</tr>\n",
       "<tr>\n",
       "  <th>Method:</th>             <td>Least Squares</td>  <th>  F-statistic:       </th> <td>   737.0</td>\n",
       "</tr>\n",
       "<tr>\n",
       "  <th>Date:</th>             <td>Sat, 20 Jul 2019</td> <th>  Prob (F-statistic):</th>  <td>  0.00</td> \n",
       "</tr>\n",
       "<tr>\n",
       "  <th>Time:</th>                 <td>22:16:04</td>     <th>  Log-Likelihood:    </th> <td>  476.60</td>\n",
       "</tr>\n",
       "<tr>\n",
       "  <th>No. Observations:</th>      <td>  1168</td>      <th>  AIC:               </th> <td>  -935.2</td>\n",
       "</tr>\n",
       "<tr>\n",
       "  <th>Df Residuals:</th>          <td>  1159</td>      <th>  BIC:               </th> <td>  -889.6</td>\n",
       "</tr>\n",
       "<tr>\n",
       "  <th>Df Model:</th>              <td>     8</td>      <th>                     </th>     <td> </td>   \n",
       "</tr>\n",
       "<tr>\n",
       "  <th>Covariance Type:</th>      <td>nonrobust</td>    <th>                     </th>     <td> </td>   \n",
       "</tr>\n",
       "</table>\n",
       "<table class=\"simpletable\">\n",
       "<tr>\n",
       "        <td></td>          <th>coef</th>     <th>std err</th>      <th>t</th>      <th>P>|t|</th>  <th>[0.025</th>    <th>0.975]</th>  \n",
       "</tr>\n",
       "<tr>\n",
       "  <th>const</th>        <td>    6.1827</td> <td>    0.557</td> <td>   11.097</td> <td> 0.000</td> <td>    5.090</td> <td>    7.276</td>\n",
       "</tr>\n",
       "<tr>\n",
       "  <th>overallqual</th>  <td>    0.1058</td> <td>    0.006</td> <td>   18.993</td> <td> 0.000</td> <td>    0.095</td> <td>    0.117</td>\n",
       "</tr>\n",
       "<tr>\n",
       "  <th>grlivarea</th>    <td> 7.045e-05</td> <td> 1.95e-05</td> <td>    3.606</td> <td> 0.000</td> <td> 3.21e-05</td> <td>    0.000</td>\n",
       "</tr>\n",
       "<tr>\n",
       "  <th>garagecars</th>   <td>    0.0893</td> <td>    0.008</td> <td>   10.604</td> <td> 0.000</td> <td>    0.073</td> <td>    0.106</td>\n",
       "</tr>\n",
       "<tr>\n",
       "  <th>totalsf</th>      <td>    0.0001</td> <td>  1.3e-05</td> <td>    7.964</td> <td> 0.000</td> <td> 7.77e-05</td> <td>    0.000</td>\n",
       "</tr>\n",
       "<tr>\n",
       "  <th>mszoning_FV</th>  <td>    0.1305</td> <td>    0.027</td> <td>    4.839</td> <td> 0.000</td> <td>    0.078</td> <td>    0.183</td>\n",
       "</tr>\n",
       "<tr>\n",
       "  <th>mszoning_RL</th>  <td>    0.1607</td> <td>    0.014</td> <td>   11.626</td> <td> 0.000</td> <td>    0.134</td> <td>    0.188</td>\n",
       "</tr>\n",
       "<tr>\n",
       "  <th>total_bath</th>   <td>    0.0445</td> <td>    0.007</td> <td>    6.197</td> <td> 0.000</td> <td>    0.030</td> <td>    0.059</td>\n",
       "</tr>\n",
       "<tr>\n",
       "  <th>yearremodadd</th> <td>    0.0022</td> <td>    0.000</td> <td>    7.749</td> <td> 0.000</td> <td>    0.002</td> <td>    0.003</td>\n",
       "</tr>\n",
       "</table>\n",
       "<table class=\"simpletable\">\n",
       "<tr>\n",
       "  <th>Omnibus:</th>       <td>748.588</td> <th>  Durbin-Watson:     </th> <td>   1.877</td> \n",
       "</tr>\n",
       "<tr>\n",
       "  <th>Prob(Omnibus):</th> <td> 0.000</td>  <th>  Jarque-Bera (JB):  </th> <td>25841.587</td>\n",
       "</tr>\n",
       "<tr>\n",
       "  <th>Skew:</th>          <td>-2.416</td>  <th>  Prob(JB):          </th> <td>    0.00</td> \n",
       "</tr>\n",
       "<tr>\n",
       "  <th>Kurtosis:</th>      <td>25.531</td>  <th>  Cond. No.          </th> <td>4.33e+05</td> \n",
       "</tr>\n",
       "</table><br/><br/>Warnings:<br/>[1] Standard Errors assume that the covariance matrix of the errors is correctly specified.<br/>[2] The condition number is large, 4.33e+05. This might indicate that there are<br/>strong multicollinearity or other numerical problems."
      ],
      "text/plain": [
       "<class 'statsmodels.iolib.summary.Summary'>\n",
       "\"\"\"\n",
       "                            OLS Regression Results                            \n",
       "==============================================================================\n",
       "Dep. Variable:              saleprice   R-squared:                       0.836\n",
       "Model:                            OLS   Adj. R-squared:                  0.835\n",
       "Method:                 Least Squares   F-statistic:                     737.0\n",
       "Date:                Sat, 20 Jul 2019   Prob (F-statistic):               0.00\n",
       "Time:                        22:16:04   Log-Likelihood:                 476.60\n",
       "No. Observations:                1168   AIC:                            -935.2\n",
       "Df Residuals:                    1159   BIC:                            -889.6\n",
       "Df Model:                           8                                         \n",
       "Covariance Type:            nonrobust                                         \n",
       "================================================================================\n",
       "                   coef    std err          t      P>|t|      [0.025      0.975]\n",
       "--------------------------------------------------------------------------------\n",
       "const            6.1827      0.557     11.097      0.000       5.090       7.276\n",
       "overallqual      0.1058      0.006     18.993      0.000       0.095       0.117\n",
       "grlivarea     7.045e-05   1.95e-05      3.606      0.000    3.21e-05       0.000\n",
       "garagecars       0.0893      0.008     10.604      0.000       0.073       0.106\n",
       "totalsf          0.0001    1.3e-05      7.964      0.000    7.77e-05       0.000\n",
       "mszoning_FV      0.1305      0.027      4.839      0.000       0.078       0.183\n",
       "mszoning_RL      0.1607      0.014     11.626      0.000       0.134       0.188\n",
       "total_bath       0.0445      0.007      6.197      0.000       0.030       0.059\n",
       "yearremodadd     0.0022      0.000      7.749      0.000       0.002       0.003\n",
       "==============================================================================\n",
       "Omnibus:                      748.588   Durbin-Watson:                   1.877\n",
       "Prob(Omnibus):                  0.000   Jarque-Bera (JB):            25841.587\n",
       "Skew:                          -2.416   Prob(JB):                         0.00\n",
       "Kurtosis:                      25.531   Cond. No.                     4.33e+05\n",
       "==============================================================================\n",
       "\n",
       "Warnings:\n",
       "[1] Standard Errors assume that the covariance matrix of the errors is correctly specified.\n",
       "[2] The condition number is large, 4.33e+05. This might indicate that there are\n",
       "strong multicollinearity or other numerical problems.\n",
       "\"\"\""
      ]
     },
     "execution_count": 66,
     "metadata": {},
     "output_type": "execute_result"
    }
   ],
   "source": [
    "X_train = sm.add_constant(X_train)\n",
    "\n",
    "results = sm.OLS(y_train, X_train).fit()\n",
    "\n",
    "results.summary()"
   ]
  },
  {
   "cell_type": "markdown",
   "metadata": {},
   "source": [
    "I was able to get the model 'more accurate' in terms of better R-squared and lower error in the prediction, BUT the predictive value for the model continues to be very bad for higher end homes. At this point, it seems like more data would be needed to make this model better?"
   ]
  },
  {
   "cell_type": "code",
   "execution_count": 68,
   "metadata": {},
   "outputs": [
    {
     "data": {
      "image/png": "[encoded data removed]",
      "text/plain": [
       "<Figure size 432x288 with 1 Axes>"
      ]
     },
     "metadata": {
      "needs_background": "light"
     },
     "output_type": "display_data"
    },
    {
     "name": "stdout",
     "output_type": "stream",
     "text": [
      "R-squared of the model in training set is: 0.8357162384890331\n",
      "-----Test set statistics-----\n",
      "R-squared of the model in test set is: 0.8555111224539024\n",
      "Mean absolute error of the prediction is: 0.11199045805424093\n",
      "Mean squared error of the prediction is: 0.024092891633249854\n",
      "Root mean squared error of the prediction is: 0.15521885076642544\n",
      "Mean absolute percentage error of the prediction is: 0.9381176923595602\n"
     ]
    }
   ],
   "source": [
    "# We add constant to the model as it's a best practice\n",
    "# to do so every time!\n",
    "\n",
    "lrm = LinearRegression()\n",
    "lrm.fit(X_train, y_train)\n",
    "\n",
    "\n",
    "# We are making predictions here\n",
    "y_preds_train = lrm.predict(X_train)\n",
    "y_preds_test = lrm.predict(X_test)\n",
    "\n",
    "\n",
    "X_test = sm.add_constant(X_test)\n",
    "\n",
    "# We are making predictions here\n",
    "y_preds = results.predict(X_test)\n",
    "\n",
    "plt.scatter(y_test, y_preds)\n",
    "plt.plot(y_test, y_test, color=\"red\")\n",
    "plt.xlabel(\"true values\")\n",
    "plt.ylabel(\"predicted values\")\n",
    "plt.title(\"Charges: true and predicted values\")\n",
    "plt.show()\n",
    "\n",
    "print(\"R-squared of the model in training set is: {}\".format(lrm.score(X_train, y_train)))\n",
    "print(\"-----Test set statistics-----\")\n",
    "print(\"R-squared of the model in test set is: {}\".format(lrm.score(X_test, y_test)))\n",
    "print(\"Mean absolute error of the prediction is: {}\".format(mean_absolute_error(y_test, y_preds)))\n",
    "print(\"Mean squared error of the prediction is: {}\".format(mse(y_test, y_preds)))\n",
    "print(\"Root mean squared error of the prediction is: {}\".format(rmse(y_test, y_preds)))\n",
    "print(\"Mean absolute percentage error of the prediction is: {}\".format(np.mean(np.abs((y_test - y_preds) / y_test)) * 100))\n"
   ]
  },
  {
   "cell_type": "markdown",
   "metadata": {},
   "source": [
    "# Lasso Regression"
   ]
  },
  {
   "cell_type": "code",
   "execution_count": 9,
   "metadata": {},
   "outputs": [],
   "source": [
    "engine = create_engine('postgresql://{}:{}@{}:{}/{}'.format(\n",
    "    postgres_user, postgres_pw, postgres_host, postgres_port, postgres_db))\n",
    "df = pd.read_sql_query('select * from houseprices',con=engine)\n",
    "\n",
    "# no need for an open connection, as we're only doing a single query\n",
    "engine.dispose()"
   ]
  },
  {
   "cell_type": "code",
   "execution_count": 10,
   "metadata": {},
   "outputs": [],
   "source": [
    "df = pd.concat([df,pd.get_dummies(df.mszoning, prefix=\"mszoning\", drop_first=True)], axis=1)\n",
    "df = pd.concat([df,pd.get_dummies(df.street, prefix=\"street\", drop_first=True)], axis=1)\n",
    "\n",
    "dummy_column_names = list(pd.get_dummies(df.mszoning, prefix=\"mszoning\", drop_first=True).columns)\n",
    "dummy_column_names = dummy_column_names + list(pd.get_dummies(df.street, prefix=\"street\", drop_first=True).columns)"
   ]
  },
  {
   "cell_type": "code",
   "execution_count": 12,
   "metadata": {},
   "outputs": [],
   "source": [
    "#create variable that includes total number of baths to see if this improves the model\n",
    "df['total_bath'] = df['fullbath']+df['halfbath']+df['bsmtfullbath']+df['bsmthalfbath']\n",
    "#variable that combines all the outdoor square footage\n",
    "df['outdoor'] = df['openporchsf']*df['lotarea']*df['wooddecksf']\n",
    "#variable that gets the toal square footage of each house\n",
    "df['totalsf'] = df['totalbsmtsf'] + df['firstflrsf'] + df['secondflrsf']"
   ]
  },
  {
   "cell_type": "code",
   "execution_count": 24,
   "metadata": {},
   "outputs": [],
   "source": [
    "# Y is the target variable\n",
    "Y = np.log1p(df['saleprice'])\n",
    "\n",
    "# X is the feature set\n",
    "X = df[['overallqual', 'grlivarea', 'garagecars', 'totalsf', 'mszoning_FV', 'mszoning_RL',\n",
    "                     'total_bath', 'yearremodadd']]\n",
    "\n",
    "\n",
    "X_train, X_test, y_train, y_test = train_test_split(X, Y, test_size = 0.2, random_state = 465)\n",
    "\n",
    "alphas = [np.power(10.0,p) for p in np.arange(-100,100,10)]"
   ]
  },
  {
   "cell_type": "code",
   "execution_count": 25,
   "metadata": {},
   "outputs": [
    {
     "name": "stdout",
     "output_type": "stream",
     "text": [
      "R-squared of the model in training set is: 0.8357162384890333\n",
      "-----Test set statistics-----\n",
      "R-squared of the model in test set is: 0.855511122453901\n",
      "Mean absolute error of the prediction is: 0.11199045805423744\n",
      "Mean squared error of the prediction is: 0.0240928916332495\n",
      "Root mean squared error of the prediction is: 0.1552188507664243\n",
      "Mean absolute percentage error of the prediction is: 0.9381176923595302\n"
     ]
    }
   ],
   "source": [
    "lrm = LinearRegression()\n",
    "\n",
    "lrm.fit(X_train, y_train)\n",
    "\n",
    "# We are making predictions here\n",
    "y_preds_train = lrm.predict(X_train)\n",
    "y_preds_test = lrm.predict(X_test)\n",
    "\n",
    "print(\"R-squared of the model in training set is: {}\".format(lrm.score(X_train, y_train)))\n",
    "print(\"-----Test set statistics-----\")\n",
    "print(\"R-squared of the model in test set is: {}\".format(lrm.score(X_test, y_test)))\n",
    "print(\"Mean absolute error of the prediction is: {}\".format(mean_absolute_error(y_test, y_preds_test)))\n",
    "print(\"Mean squared error of the prediction is: {}\".format(mse(y_test, y_preds_test)))\n",
    "print(\"Root mean squared error of the prediction is: {}\".format(rmse(y_test, y_preds_test)))\n",
    "print(\"Mean absolute percentage error of the prediction is: {}\".format(np.mean(np.abs((y_test - y_preds_test) / y_test)) * 100))"
   ]
  },
  {
   "cell_type": "code",
   "execution_count": 26,
   "metadata": {},
   "outputs": [
    {
     "name": "stdout",
     "output_type": "stream",
     "text": [
      "Best alpha value is: 1e-60\n",
      "R-squared of the model in training set is: 0.8357162384890333\n",
      "-----Test set statistics-----\n",
      "R-squared of the model in test set is: 0.855511122453904\n",
      "Mean absolute error of the prediction is: 0.11199045805423873\n",
      "Mean squared error of the prediction is: 0.02409289163324902\n",
      "Root mean squared error of the prediction is: 0.15521885076642278\n",
      "Mean absolute percentage error of the prediction is: 0.9381176923595403\n"
     ]
    }
   ],
   "source": [
    "lasso_cv = LassoCV(alphas=alphas, cv=10)\n",
    "\n",
    "lasso_cv.fit(X_train, y_train)\n",
    "\n",
    "# We are making predictions here\n",
    "y_preds_train = lasso_cv.predict(X_train)\n",
    "y_preds_test = lasso_cv.predict(X_test)\n",
    "\n",
    "print(\"Best alpha value is: {}\".format(lasso_cv.alpha_))\n",
    "print(\"R-squared of the model in training set is: {}\".format(lasso_cv.score(X_train, y_train)))\n",
    "print(\"-----Test set statistics-----\")\n",
    "print(\"R-squared of the model in test set is: {}\".format(lasso_cv.score(X_test, y_test)))\n",
    "print(\"Mean absolute error of the prediction is: {}\".format(mean_absolute_error(y_test, y_preds_test)))\n",
    "print(\"Mean squared error of the prediction is: {}\".format(mse(y_test, y_preds_test)))\n",
    "print(\"Root mean squared error of the prediction is: {}\".format(rmse(y_test, y_preds_test)))\n",
    "print(\"Mean absolute percentage error of the prediction is: {}\".format(np.mean(np.abs((y_test - y_preds_test) / y_test)) * 100))"
   ]
  },
  {
   "cell_type": "markdown",
   "metadata": {},
   "source": [
    "# Ridge Regression"
   ]
  },
  {
   "cell_type": "code",
   "execution_count": 49,
   "metadata": {},
   "outputs": [],
   "source": [
    "engine = create_engine('postgresql://{}:{}@{}:{}/{}'.format(\n",
    "    postgres_user, postgres_pw, postgres_host, postgres_port, postgres_db))\n",
    "df = pd.read_sql_query('select * from houseprices',con=engine)\n",
    "\n",
    "# no need for an open connection, as we're only doing a single query\n",
    "engine.dispose()"
   ]
  },
  {
   "cell_type": "code",
   "execution_count": 50,
   "metadata": {},
   "outputs": [],
   "source": [
    "df = pd.concat([df,pd.get_dummies(df.mszoning, prefix=\"mszoning\", drop_first=True)], axis=1)\n",
    "df = pd.concat([df,pd.get_dummies(df.street, prefix=\"street\", drop_first=True)], axis=1)\n",
    "\n",
    "dummy_column_names = list(pd.get_dummies(df.mszoning, prefix=\"mszoning\", drop_first=True).columns)\n",
    "dummy_column_names = dummy_column_names + list(pd.get_dummies(df.street, prefix=\"street\", drop_first=True).columns)\n",
    "\n",
    "#create variable that includes total number of baths to see if this improves the model\n",
    "df['total_bath'] = df['fullbath']+df['halfbath']+df['bsmtfullbath']+df['bsmthalfbath']\n",
    "#variable that combines all the outdoor square footage\n",
    "df['outdoor'] = df['openporchsf']*df['lotarea']*df['wooddecksf']\n",
    "#variable that gets the toal square footage of each house\n",
    "df['totalsf'] = df['totalbsmtsf'] + df['firstflrsf'] + df['secondflrsf']"
   ]
  },
  {
   "cell_type": "code",
   "execution_count": 51,
   "metadata": {},
   "outputs": [],
   "source": [
    "# Ridge Regression\n",
    "# Y is the target variable\n",
    "Y = np.log1p(df['saleprice'])\n",
    "\n",
    "# X is the feature set\n",
    "X = df[['overallqual', 'grlivarea', 'garagecars', 'totalsf', 'mszoning_FV', 'mszoning_RL',\n",
    "                     'total_bath', 'yearremodadd']]\n",
    "\n",
    "X_train, X_test, y_train, y_test = train_test_split(X, Y, test_size = 0.2, random_state = 465)\n",
    "\n",
    "alphas = [np.power(10.0,p) for p in np.arange(-100,100,10)]"
   ]
  },
  {
   "cell_type": "code",
   "execution_count": 52,
   "metadata": {},
   "outputs": [
    {
     "name": "stdout",
     "output_type": "stream",
     "text": [
      "Best alpha value is: 1e-10\n",
      "R-squared of the model in training set is: 0.8357162384890333\n",
      "-----Test set statistics-----\n",
      "R-squared of the model in test set is: 0.8555111224539226\n",
      "Mean absolute error of the prediction is: 0.11199045805422976\n",
      "Mean squared error of the prediction is: 0.024092891633245964\n",
      "Root mean squared error of the prediction is: 0.15521885076641292\n",
      "Mean absolute percentage error of the prediction is: 0.9381176923594631\n"
     ]
    }
   ],
   "source": [
    "# Ridge Regression\n",
    "\n",
    "# Fitting a ridge regression model. Alpha is the regularization\n",
    "# parameter (usually called lambda). As alpha gets larger, parameter\n",
    "# shrinkage grows more pronounced.\n",
    "ridge_cv = RidgeCV(alphas=alphas, cv=10)\n",
    "ridge_cv.fit(X_train, y_train)\n",
    "\n",
    "# We are making predictions here\n",
    "y_preds_train = ridge_cv.predict(X_train)\n",
    "y_preds_test = ridge_cv.predict(X_test)\n",
    "\n",
    "print(\"Best alpha value is: {}\".format(ridge_cv.alpha_))\n",
    "print(\"R-squared of the model in training set is: {}\".format(ridge_cv.score(X_train, y_train)))\n",
    "print(\"-----Test set statistics-----\")\n",
    "print(\"R-squared of the model in test set is: {}\".format(ridge_cv.score(X_test, y_test)))\n",
    "print(\"Mean absolute error of the prediction is: {}\".format(mean_absolute_error(y_test, y_preds_test)))\n",
    "print(\"Mean squared error of the prediction is: {}\".format(mse(y_test, y_preds_test)))\n",
    "print(\"Root mean squared error of the prediction is: {}\".format(rmse(y_test, y_preds_test)))\n",
    "print(\"Mean absolute percentage error of the prediction is: {}\".format(np.mean(np.abs((y_test - y_preds_test) / y_test)) * 100))"
   ]
  },
  {
   "cell_type": "markdown",
   "metadata": {},
   "source": [
    "# ElasticNet Regression"
   ]
  },
  {
   "cell_type": "code",
   "execution_count": 53,
   "metadata": {},
   "outputs": [],
   "source": [
    "engine = create_engine('postgresql://{}:{}@{}:{}/{}'.format(\n",
    "    postgres_user, postgres_pw, postgres_host, postgres_port, postgres_db))\n",
    "df = pd.read_sql_query('select * from houseprices',con=engine)\n",
    "\n",
    "# no need for an open connection, as we're only doing a single query\n",
    "engine.dispose()"
   ]
  },
  {
   "cell_type": "code",
   "execution_count": 54,
   "metadata": {},
   "outputs": [],
   "source": [
    "df = pd.concat([df,pd.get_dummies(df.mszoning, prefix=\"mszoning\", drop_first=True)], axis=1)\n",
    "df = pd.concat([df,pd.get_dummies(df.street, prefix=\"street\", drop_first=True)], axis=1)\n",
    "\n",
    "dummy_column_names = list(pd.get_dummies(df.mszoning, prefix=\"mszoning\", drop_first=True).columns)\n",
    "dummy_column_names = dummy_column_names + list(pd.get_dummies(df.street, prefix=\"street\", drop_first=True).columns)\n",
    "\n",
    "#create variable that includes total number of baths to see if this improves the model\n",
    "df['total_bath'] = df['fullbath']+df['halfbath']+df['bsmtfullbath']+df['bsmthalfbath']\n",
    "#variable that combines all the outdoor square footage\n",
    "df['outdoor'] = df['openporchsf']*df['lotarea']*df['wooddecksf']\n",
    "#variable that gets the toal square footage of each house\n",
    "df['totalsf'] = df['totalbsmtsf'] + df['firstflrsf'] + df['secondflrsf']"
   ]
  },
  {
   "cell_type": "code",
   "execution_count": 55,
   "metadata": {},
   "outputs": [],
   "source": [
    "# Y is the target variable\n",
    "Y = np.log1p(df['saleprice'])\n",
    "\n",
    "# X is the feature set\n",
    "X = df[['overallqual', 'grlivarea', 'garagecars', 'totalsf', 'mszoning_FV', 'mszoning_RL',\n",
    "                     'total_bath', 'yearremodadd']]\n",
    "\n",
    "X_train, X_test, y_train, y_test = train_test_split(X, Y, test_size = 0.2, random_state = 465)\n",
    "l1 = [.1, .5, .7, .9, .95, .99, 1]"
   ]
  },
  {
   "cell_type": "code",
   "execution_count": 59,
   "metadata": {},
   "outputs": [
    {
     "name": "stdout",
     "output_type": "stream",
     "text": [
      "R-squared of the model on the training set is: 0.8357162384890333\n",
      "-----Test set statistics-----\n",
      "R-squared of the model on the test set is: 0.855511122453904\n",
      "Mean absolute error of the prediction is: 0.11199045805423873\n",
      "Mean squared error of the prediction is: 0.02409289163324902\n",
      "Root mean squared error of the prediction is: 0.15521885076642278\n",
      "Mean absolute percentage error of the prediction is: 0.9381176923595403\n"
     ]
    }
   ],
   "source": [
    "# ElasticNet Regression\n",
    "\n",
    "elastic_cv = ElasticNetCV(alphas=alphas, l1_ratio=l1) \n",
    "elastic_cv.fit(X_train, y_train)\n",
    "\n",
    "# We are making predictions here\n",
    "y_preds_train = elastic_cv.predict(X_train)\n",
    "y_preds_test = elastic_cv.predict(X_test)\n",
    "\n",
    "print(\"R-squared of the model on the training set is: {}\".format(elastic_cv.score(X_train, y_train)))\n",
    "print(\"-----Test set statistics-----\")\n",
    "print(\"R-squared of the model on the test set is: {}\".format(elastic_cv.score(X_test, y_test)))\n",
    "print(\"Mean absolute error of the prediction is: {}\".format(mean_absolute_error(y_test, y_preds_test)))\n",
    "print(\"Mean squared error of the prediction is: {}\".format(mse(y_test, y_preds_test)))\n",
    "print(\"Root mean squared error of the prediction is: {}\".format(rmse(y_test, y_preds_test)))\n",
    "print(\"Mean absolute percentage error of the prediction is: {}\".format(np.mean(np.abs((y_test - y_preds_test) / y_test)) * 100))\n"
   ]
  },
  {
   "cell_type": "markdown",
   "metadata": {},
   "source": [
    "The OLS model did best in r squared for the test set, but the Ridge model scored very slighly lower in several of the error calculations."
   ]
  },
  {
   "cell_type": "code",
   "execution_count": null,
   "metadata": {},
   "outputs": [],
   "source": []
  }
 ],
 "metadata": {
  "kernelspec": {
   "display_name": "Python 3",
   "language": "python",
   "name": "python3"
  },
  "language_info": {
   "codemirror_mode": {
    "name": "ipython",
    "version": 3
   },
   "file_extension": ".py",
   "mimetype": "text/x-python",
   "name": "python",
   "nbconvert_exporter": "python",
   "pygments_lexer": "ipython3",
   "version": "3.7.3"
  }
 },
 "nbformat": 4,
 "nbformat_minor": 2
}

{
 "cells": [
  {
   "cell_type": "code",
   "execution_count": 9,
   "metadata": {},
   "outputs": [],
   "source": [
    "import scrapy\n",
    "from scrapy.spiders import Spider\n",
    "#from scrapy.spider import BaseSpider\n",
    "#from scrapy.selector import HtmlXPathSelector\n",
    "\n",
    "from scrapy.crawler import CrawlerProcess"
   ]
  },
  {
   "cell_type": "code",
   "execution_count": 10,
   "metadata": {},
   "outputs": [],
   "source": [
    "class ImgSpider(Spider):\n",
    "    # Naming the spider is important if you are running more than one spider of\n",
    "    # this class simultaneously.\n",
    "    name = \"image_spider\"\n",
    "    \n",
    "    # URL(s) to start with.\n",
    "    start_urls = [\"https://www.grainger.com/category/safety/signs/safety-signs/access-signs/authorized-personnel-do-not-enter-signs\"]\n",
    "    \n",
    "    def html_img_tag(img_url):\n",
    "        return '<img width=\\'30%\\' height=\\'30%\\' src=\\''+ img_url +'\\' > </img><br/> '\n",
    "\n",
    "    # What to do with the URL.  Here, we tell it to download all the code and save\n",
    "    # it to the mainpage.html file\n",
    "    def parse(self, response):\n",
    "        final = ''\n",
    "        links = response.xpath('//a/@img src')\n",
    "        \n",
    "        for link in links:  # Extract the URL text from the element\n",
    "            url = link.get()  \n",
    "            # Check if the URL contains an image extension\n",
    "                if any(extension in url for extension in ['.jpg', '.gif', '.png']):\n",
    "            ...\n",
    "            #if img_url.endswith('main$'): #or img_url.endswith('.png')\n",
    "            #    final+= html_img_tag(img_url)\n",
    "                # print each image's URL to see what we're getting\n",
    "           #     print(img_url) \n",
    "        #with open('moist','a') as links:\n",
    "         #   links.write(final)\n",
    "        #links.close()"
   ]
  },
  {
   "cell_type": "code",
   "execution_count": 5,
   "metadata": {},
   "outputs": [],
   "source": [
    "BOT_NAME = 'scrapy_img'\n",
    "\n",
    "SPIDER_MODULES = ['scrapy_img.spiders']\n",
    "NEWSPIDER_MODULE = 'scrapy_img.spiders'\n",
    "\n",
    "ROBOTSTXT_OBEY = True\n",
    "\n",
    "ITEM_PIPELINES = {'scrapy.pipelines.images.ImagesPipeline': 1}\n",
    "\n",
    "IMAGES_STORE = '//Users/colette/Downloads/Grainger_Images'"
   ]
  },
  {
   "cell_type": "code",
   "execution_count": 4,
   "metadata": {},
   "outputs": [
    {
     "name": "stderr",
     "output_type": "stream",
     "text": [
      "2019-10-12 17:38:52 [scrapy.utils.log] INFO: Scrapy 1.7.3 started (bot: scrapybot)\n",
      "2019-10-12 17:38:52 [scrapy.utils.log] INFO: Versions: lxml 4.4.1.0, libxml2 2.9.9, cssselect 1.1.0, parsel 1.5.2, w3lib 1.21.0, Twisted 19.7.0, Python 3.7.4 (default, Aug 13 2019, 15:17:50) - [Clang 4.0.1 (tags/RELEASE_401/final)], pyOpenSSL 19.0.0 (OpenSSL 1.1.1c  28 May 2019), cryptography 2.7, Platform Darwin-19.0.0-x86_64-i386-64bit\n",
      "2019-10-12 17:38:52 [scrapy.crawler] INFO: Overridden settings: {}\n",
      "2019-10-12 17:38:52 [scrapy.extensions.telnet] INFO: Telnet Password: a681f83602801210\n",
      "2019-10-12 17:38:52 [scrapy.middleware] INFO: Enabled extensions:\n",
      "['scrapy.extensions.corestats.CoreStats',\n",
      " 'scrapy.extensions.telnet.TelnetConsole',\n",
      " 'scrapy.extensions.memusage.MemoryUsage',\n",
      " 'scrapy.extensions.logstats.LogStats']\n",
      "2019-10-12 17:38:52 [scrapy.middleware] INFO: Enabled downloader middlewares:\n",
      "['scrapy.downloadermiddlewares.httpauth.HttpAuthMiddleware',\n",
      " 'scrapy.downloadermiddlewares.downloadtimeout.DownloadTimeoutMiddleware',\n",
      " 'scrapy.downloadermiddlewares.defaultheaders.DefaultHeadersMiddleware',\n",
      " 'scrapy.downloadermiddlewares.useragent.UserAgentMiddleware',\n",
      " 'scrapy.downloadermiddlewares.retry.RetryMiddleware',\n",
      " 'scrapy.downloadermiddlewares.redirect.MetaRefreshMiddleware',\n",
      " 'scrapy.downloadermiddlewares.httpcompression.HttpCompressionMiddleware',\n",
      " 'scrapy.downloadermiddlewares.redirect.RedirectMiddleware',\n",
      " 'scrapy.downloadermiddlewares.cookies.CookiesMiddleware',\n",
      " 'scrapy.downloadermiddlewares.httpproxy.HttpProxyMiddleware',\n",
      " 'scrapy.downloadermiddlewares.stats.DownloaderStats']\n",
      "2019-10-12 17:38:52 [scrapy.middleware] INFO: Enabled spider middlewares:\n",
      "['scrapy.spidermiddlewares.httperror.HttpErrorMiddleware',\n",
      " 'scrapy.spidermiddlewares.offsite.OffsiteMiddleware',\n",
      " 'scrapy.spidermiddlewares.referer.RefererMiddleware',\n",
      " 'scrapy.spidermiddlewares.urllength.UrlLengthMiddleware',\n",
      " 'scrapy.spidermiddlewares.depth.DepthMiddleware']\n",
      "2019-10-12 17:38:52 [scrapy.middleware] INFO: Enabled item pipelines:\n",
      "[]\n",
      "2019-10-12 17:38:52 [scrapy.core.engine] INFO: Spider opened\n",
      "2019-10-12 17:38:52 [scrapy.extensions.logstats] INFO: Crawled 0 pages (at 0 pages/min), scraped 0 items (at 0 items/min)\n",
      "2019-10-12 17:38:52 [scrapy.extensions.telnet] INFO: Telnet console listening on 127.0.0.1:6023\n",
      "2019-10-12 17:38:54 [scrapy.core.engine] DEBUG: Crawled (200) <GET https://www.grainger.com/category/safety/signs/safety-signs/access-signs/authorized-personnel-do-not-enter-signs> (referer: None)\n",
      "2019-10-12 17:38:54 [scrapy.core.engine] INFO: Closing spider (finished)\n",
      "2019-10-12 17:38:54 [scrapy.statscollectors] INFO: Dumping Scrapy stats:\n",
      "{'downloader/request_bytes': 302,\n",
      " 'downloader/request_count': 1,\n",
      " 'downloader/request_method_count/GET': 1,\n",
      " 'downloader/response_bytes': 81635,\n",
      " 'downloader/response_count': 1,\n",
      " 'downloader/response_status_count/200': 1,\n",
      " 'elapsed_time_seconds': 1.539943,\n",
      " 'finish_reason': 'finished',\n",
      " 'finish_time': datetime.datetime(2019, 10, 12, 22, 38, 54, 235633),\n",
      " 'log_count/DEBUG': 1,\n",
      " 'log_count/INFO': 10,\n",
      " 'memusage/max': 71573504,\n",
      " 'memusage/startup': 71569408,\n",
      " 'response_received_count': 1,\n",
      " 'scheduler/dequeued': 1,\n",
      " 'scheduler/dequeued/memory': 1,\n",
      " 'scheduler/enqueued': 1,\n",
      " 'scheduler/enqueued/memory': 1,\n",
      " 'start_time': datetime.datetime(2019, 10, 12, 22, 38, 52, 695690)}\n",
      "2019-10-12 17:38:54 [scrapy.core.engine] INFO: Spider closed (finished)\n"
     ]
    }
   ],
   "source": [
    "# Instantiate our crawler.\n",
    "process = CrawlerProcess()\n",
    "\n",
    "# Start the crawler with our spider.\n",
    "process.crawl(ImgSpider)\n",
    "process.start()"
   ]
  },
  {
   "cell_type": "code",
   "execution_count": 6,
   "metadata": {},
   "outputs": [],
   "source": [
    "from lxml import html, etree\n",
    "import requests\n",
    "\n",
    "# Get the original webpage html content\n",
    "webpageLink = 'http://www.howtowebscrape.com/examples/simplescrape1.html'\n",
    "\n",
    "page = requests.get(webpageLink)\n",
    "\n",
    "# convert the data received into searchable HTML\n",
    "extractedHtml = html.fromstring(page.content)\n",
    "\n",
    "# use an XPath query to find the image link (the 'src' attribute of the 'img' tag).\n",
    "\n",
    "imageSrc = extractedHtml.xpath(\"//img/@src\") # in our example, result = ‘/images/GrokkingAlgorithms.jpg’\n",
    "# strip off the actual *page* being called as we only want to base url\n",
    "\n",
    "imageDomain = webpageLink.rsplit('/', 1) # in our example, result = http://www.howtowebscrape.com/examples/"
   ]
  },
  {
   "cell_type": "code",
   "execution_count": 7,
   "metadata": {},
   "outputs": [],
   "source": [
    "# test if this is an absolute link or relative\n",
    "if imageSrc[0].startswith(\"http\"):\n",
    "    # start with http, therefore take this as the full link\n",
    "    imageLink = imageSrc[0]\n",
    "else:\n",
    "    # does not start with http, therefore construct the full url from the base url plus the absolute image link\n",
    "    imageLink = str(imageDomain[0]) + str(imageSrc[0])"
   ]
  },
  {
   "cell_type": "code",
   "execution_count": 9,
   "metadata": {},
   "outputs": [],
   "source": [
    "def downloadFile(AFileName):\n",
    "    # extract file name from AFileName\n",
    "    filename = AFileName.split(\"/\")[-1] \n",
    "    # download image using GET\n",
    "    rawImage = requests.get(AFileName, stream=True)\n",
    "    # save the image recieved into the file\n",
    "    with open(filename, 'wb') as fd:\n",
    "        for chunk in rawImage.iter_content(chunk_size=1024):\n",
    "            fd.write(chunk)\n",
    "    return"
   ]
  },
  {
   "cell_type": "code",
   "execution_count": 8,
   "metadata": {},
   "outputs": [],
   "source": [
    "# extract file name from link\n",
    "filename = imageLink.split(\"/\")[-1] \n",
    "# download image using GET\n",
    "rawImage = requests.get(imageLink, stream=True)\n",
    "# save the image received into the file\n",
    "with open(filename, 'wb') as fd:\n",
    "    for chunk in rawImage.iter_content(chunk_size=1024):\n",
    "        fd.write(chunk)"
   ]
  },
  {
   "cell_type": "code",
   "execution_count": 12,
   "metadata": {},
   "outputs": [],
   "source": [
    "downloadFile(\"https://www.grainger.com/category/safety/signs/safety-signs/access-signs/authorized-personnel-do-not-enter-signs\")"
   ]
  },
  {
   "cell_type": "code",
   "execution_count": null,
   "metadata": {},
   "outputs": [],
   "source": []
  }
 ],
 "metadata": {
  "kernelspec": {
   "display_name": "Python 3",
   "language": "python",
   "name": "python3"
  },
  "language_info": {
   "codemirror_mode": {
    "name": "ipython",
    "version": 3
   },
   "file_extension": ".py",
   "mimetype": "text/x-python",
   "name": "python",
   "nbconvert_exporter": "python",
   "pygments_lexer": "ipython3",
   "version": "3.7.4"
  }
 },
 "nbformat": 4,
 "nbformat_minor": 2
}

{
 "cells": [
  {
   "cell_type": "code",
   "execution_count": 5,
   "metadata": {},
   "outputs": [],
   "source": [
    "import pandas as pd\n",
    "import numpy as np\n",
    "from sqlalchemy import create_engine\n",
    "import warnings\n",
    "\n",
    "import matplotlib.pyplot as plt\n",
    "warnings.filterwarnings('ignore')\n",
    "postgres_user = 'dsbc_student'\n",
    "postgres_pw = '7*.8G9QH21'\n",
    "postgres_host = '142.93.121.174'\n",
    "postgres_port = '5432'\n",
    "postgres_db = 'useducation'\n",
    "\n",
    "engine = create_engine('postgresql://{}:{}@{}:{}/{}'.format(\n",
    "    postgres_user, postgres_pw, postgres_host, postgres_port, postgres_db))\n",
    "\n",
    "df = pd.read_sql_query('select * from useducation',con=engine)\n",
    "\n",
    "# no need for an open connection, \n",
    "# as we're only doing a single query\n",
    "engine.dispose()"
   ]
  },
  {
   "cell_type": "code",
   "execution_count": 6,
   "metadata": {},
   "outputs": [
    {
     "name": "stdout",
     "output_type": "stream",
     "text": [
      "<class 'pandas.core.frame.DataFrame'>\n",
      "RangeIndex: 1492 entries, 0 to 1491\n",
      "Data columns (total 25 columns):\n",
      "PRIMARY_KEY                     1492 non-null object\n",
      "STATE                           1492 non-null object\n",
      "YEAR                            1492 non-null int64\n",
      "ENROLL                          1229 non-null float64\n",
      "TOTAL_REVENUE                   1280 non-null float64\n",
      "FEDERAL_REVENUE                 1280 non-null float64\n",
      "STATE_REVENUE                   1280 non-null float64\n",
      "LOCAL_REVENUE                   1280 non-null float64\n",
      "TOTAL_EXPENDITURE               1280 non-null float64\n",
      "INSTRUCTION_EXPENDITURE         1280 non-null float64\n",
      "SUPPORT_SERVICES_EXPENDITURE    1280 non-null float64\n",
      "OTHER_EXPENDITURE               1229 non-null float64\n",
      "CAPITAL_OUTLAY_EXPENDITURE      1280 non-null float64\n",
      "GRADES_PK_G                     1319 non-null float64\n",
      "GRADES_KG_G                     1360 non-null float64\n",
      "GRADES_4_G                      1361 non-null float64\n",
      "GRADES_8_G                      1361 non-null float64\n",
      "GRADES_12_G                     1361 non-null float64\n",
      "GRADES_1_8_G                    1361 non-null float64\n",
      "GRADES_9_12_G                   1361 non-null float64\n",
      "GRADES_ALL_G                    1319 non-null float64\n",
      "AVG_MATH_4_SCORE                536 non-null float64\n",
      "AVG_MATH_8_SCORE                532 non-null float64\n",
      "AVG_READING_4_SCORE             533 non-null float64\n",
      "AVG_READING_8_SCORE             498 non-null float64\n",
      "dtypes: float64(22), int64(1), object(2)\n",
      "memory usage: 291.5+ KB\n"
     ]
    }
   ],
   "source": [
    "df.info(verbose=True, null_counts=True)"
   ]
  },
  {
   "cell_type": "code",
   "execution_count": 7,
   "metadata": {},
   "outputs": [
    {
     "data": {
      "text/plain": [
       "14.20911528150134"
      ]
     },
     "execution_count": 7,
     "metadata": {},
     "output_type": "execute_result"
    }
   ],
   "source": [
    "df['TOTAL_REVENUE'].isnull().sum()*100/df['TOTAL_REVENUE'].isnull().count()"
   ]
  },
  {
   "cell_type": "code",
   "execution_count": 8,
   "metadata": {},
   "outputs": [
    {
     "data": {
      "text/plain": [
       "14.20911528150134"
      ]
     },
     "execution_count": 8,
     "metadata": {},
     "output_type": "execute_result"
    }
   ],
   "source": [
    "df['TOTAL_EXPENDITURE'].isnull().sum()*100/df['TOTAL_EXPENDITURE'].isnull().count()"
   ]
  },
  {
   "cell_type": "code",
   "execution_count": 9,
   "metadata": {},
   "outputs": [],
   "source": [
    "#reduce blank values by using forward, then backward linear interpolation\n",
    "\n",
    "def interpolate_by_state (df, column):\n",
    "    df[column] = df.groupby('STATE')[column].apply(lambda group: group.interpolate())\n",
    "    df[column] = df.groupby('STATE')[column].apply(lambda group: group.interpolate(method ='linear', limit_direction ='backward'))\n",
    "\n",
    "interpolate_by_state(df, 'TOTAL_REVENUE')\n",
    "interpolate_by_state(df, 'TOTAL_EXPENDITURE')"
   ]
  },
  {
   "cell_type": "code",
   "execution_count": 10,
   "metadata": {},
   "outputs": [
    {
     "data": {
      "text/plain": [
       "10.79088471849866"
      ]
     },
     "execution_count": 10,
     "metadata": {},
     "output_type": "execute_result"
    }
   ],
   "source": [
    "df['TOTAL_REVENUE'].isnull().sum()*100/df['TOTAL_REVENUE'].isnull().count()"
   ]
  },
  {
   "cell_type": "code",
   "execution_count": 11,
   "metadata": {},
   "outputs": [
    {
     "data": {
      "text/plain": [
       "10.79088471849866"
      ]
     },
     "execution_count": 11,
     "metadata": {},
     "output_type": "execute_result"
    }
   ],
   "source": [
    "df['TOTAL_EXPENDITURE'].isnull().sum()*100/df['TOTAL_EXPENDITURE'].isnull().count()"
   ]
  },
  {
   "cell_type": "code",
   "execution_count": 12,
   "metadata": {},
   "outputs": [],
   "source": [
    "#remove rows where values are still null after interpolation (these are geographic regions\n",
    "#where we have no data to interpolate from)\n",
    "\n",
    "df = df[pd.notnull(df['TOTAL_EXPENDITURE'])]\n",
    "df = df[pd.notnull(df['TOTAL_REVENUE'])]"
   ]
  },
  {
   "cell_type": "code",
   "execution_count": 13,
   "metadata": {},
   "outputs": [
    {
     "data": {
      "text/plain": [
       "0.0"
      ]
     },
     "execution_count": 13,
     "metadata": {},
     "output_type": "execute_result"
    }
   ],
   "source": [
    "df['TOTAL_REVENUE'].isnull().sum()*100/df['TOTAL_REVENUE'].isnull().count()"
   ]
  },
  {
   "cell_type": "code",
   "execution_count": 14,
   "metadata": {},
   "outputs": [
    {
     "data": {
      "text/plain": [
       "0.0"
      ]
     },
     "execution_count": 14,
     "metadata": {},
     "output_type": "execute_result"
    }
   ],
   "source": [
    "df['TOTAL_EXPENDITURE'].isnull().sum()*100/df['TOTAL_EXPENDITURE'].isnull().count()"
   ]
  },
  {
   "cell_type": "code",
   "execution_count": 15,
   "metadata": {
    "scrolled": false
   },
   "outputs": [
    {
     "name": "stdout",
     "output_type": "stream",
     "text": [
      "<class 'pandas.core.frame.DataFrame'>\n",
      "Int64Index: 1331 entries, 0 to 1491\n",
      "Data columns (total 25 columns):\n",
      "PRIMARY_KEY                     1331 non-null object\n",
      "STATE                           1331 non-null object\n",
      "YEAR                            1331 non-null int64\n",
      "ENROLL                          1229 non-null float64\n",
      "TOTAL_REVENUE                   1331 non-null float64\n",
      "FEDERAL_REVENUE                 1280 non-null float64\n",
      "STATE_REVENUE                   1280 non-null float64\n",
      "LOCAL_REVENUE                   1280 non-null float64\n",
      "TOTAL_EXPENDITURE               1331 non-null float64\n",
      "INSTRUCTION_EXPENDITURE         1280 non-null float64\n",
      "SUPPORT_SERVICES_EXPENDITURE    1280 non-null float64\n",
      "OTHER_EXPENDITURE               1229 non-null float64\n",
      "CAPITAL_OUTLAY_EXPENDITURE      1280 non-null float64\n",
      "GRADES_PK_G                     1218 non-null float64\n",
      "GRADES_KG_G                     1229 non-null float64\n",
      "GRADES_4_G                      1229 non-null float64\n",
      "GRADES_8_G                      1229 non-null float64\n",
      "GRADES_12_G                     1229 non-null float64\n",
      "GRADES_1_8_G                    1229 non-null float64\n",
      "GRADES_9_12_G                   1229 non-null float64\n",
      "GRADES_ALL_G                    1218 non-null float64\n",
      "AVG_MATH_4_SCORE                536 non-null float64\n",
      "AVG_MATH_8_SCORE                532 non-null float64\n",
      "AVG_READING_4_SCORE             533 non-null float64\n",
      "AVG_READING_8_SCORE             498 non-null float64\n",
      "dtypes: float64(22), int64(1), object(2)\n",
      "memory usage: 270.4+ KB\n"
     ]
    }
   ],
   "source": [
    "#after dropping blank values, we still have 1331 rows, which is 89.2%\n",
    "df.info()"
   ]
  },
  {
   "cell_type": "code",
   "execution_count": 21,
   "metadata": {},
   "outputs": [
    {
     "data": {
      "image/png": "[encoded data removed]",
      "text/plain": [
       "<Figure size 1080x360 with 2 Axes>"
      ]
     },
     "metadata": {
      "needs_background": "light"
     },
     "output_type": "display_data"
    },
    {
     "data": {
      "text/plain": [
       "<Figure size 1080x360 with 0 Axes>"
      ]
     },
     "execution_count": 21,
     "metadata": {},
     "output_type": "execute_result"
    },
    {
     "data": {
      "text/plain": [
       "<Figure size 1080x360 with 0 Axes>"
      ]
     },
     "metadata": {},
     "output_type": "display_data"
    }
   ],
   "source": [
    "plt.figure(figsize = (15,5))\n",
    "\n",
    "plt.subplot(1,2,1)\n",
    "plt.hist(df['TOTAL_REVENUE'])\n",
    "plt.title('Total Revenue')\n",
    "\n",
    "plt.subplot(1,2,2)\n",
    "plt.hist(df['TOTAL_EXPENDITURE'])\n",
    "plt.title('Total Expenditure')\n",
    "\n",
    "plt.show()\n",
    "\n",
    "plt.figure(figsize = (15,5))\n"
   ]
  },
  {
   "cell_type": "markdown",
   "metadata": {},
   "source": [
    "QUESTION 1: Consider the two variables: TOTAL_REVENUE and TOTAL_EXPENDITURE. Do these variables have outlier values?\n",
    "        \n",
    "ANSWER: Outliers show below, and we can tell from the histograms above that the data is not distributed normally."
   ]
  },
  {
   "cell_type": "code",
   "execution_count": 17,
   "metadata": {},
   "outputs": [
    {
     "data": {
      "image/png": "[encoded data removed]",
      "text/plain": [
       "<Figure size 1080x360 with 2 Axes>"
      ]
     },
     "metadata": {
      "needs_background": "light"
     },
     "output_type": "display_data"
    }
   ],
   "source": [
    "plt.figure(figsize = (15,5))\n",
    "\n",
    "plt.subplot(1,2,1)\n",
    "plt.boxplot(df['TOTAL_REVENUE'])\n",
    "plt.title('Box plot of Total Revenue')\n",
    "\n",
    "plt.subplot(1,2,2)\n",
    "plt.boxplot(df['TOTAL_EXPENDITURE'])\n",
    "plt.title('Box plot of Total Expenditure')\n",
    "\n",
    "plt.show()"
   ]
  },
  {
   "cell_type": "code",
   "execution_count": 19,
   "metadata": {},
   "outputs": [
    {
     "name": "stdout",
     "output_type": "stream",
     "text": [
      "The score threshold is: 1.0\n",
      "Number of outliers is: 146\n",
      "The score threshold is: 1.5\n",
      "Number of outliers is: 111\n",
      "The score threshold is: 2.0\n",
      "Number of outliers is: 76\n",
      "The score threshold is: 2.5\n",
      "Number of outliers is: 53\n",
      "The score threshold is: 3.0\n",
      "Number of outliers is: 47\n",
      "The score threshold is: 3.5\n",
      "Number of outliers is: 42\n",
      "The score threshold is: 4.0\n",
      "Number of outliers is: 38\n",
      "The score threshold is: 4.5\n",
      "Number of outliers is: 31\n"
     ]
    }
   ],
   "source": [
    "# Statistical look at the outliers for these TOTAL_REVENUE shows 31 outliers \n",
    "q_rev75, q_rev25 = np.percentile(df[\"TOTAL_REVENUE\"], [75 ,25])\n",
    "iqr_rev = q_rev75 - q_rev25\n",
    "\n",
    "for threshold in np.arange(1,5,0.5):\n",
    "    min_val_rev = q_rev25 - (iqr_rev*threshold)\n",
    "    max_val_rev = q_rev75 + (iqr_rev*threshold)\n",
    "    print(\"The score threshold is: {}\".format(threshold))\n",
    "    print(\"Number of outliers is: {}\".format(\n",
    "        len((np.where((df[\"TOTAL_REVENUE\"] > max_val_rev) \n",
    "                      | (df[\"TOTAL_REVENUE\"] < min_val_rev))[0]))\n",
    "    ))"
   ]
  },
  {
   "cell_type": "code",
   "execution_count": 20,
   "metadata": {},
   "outputs": [
    {
     "name": "stdout",
     "output_type": "stream",
     "text": [
      "The score threshold is: 1.0\n",
      "Number of outliers is: 158\n",
      "The score threshold is: 1.5\n",
      "Number of outliers is: 116\n",
      "The score threshold is: 2.0\n",
      "Number of outliers is: 81\n",
      "The score threshold is: 2.5\n",
      "Number of outliers is: 58\n",
      "The score threshold is: 3.0\n",
      "Number of outliers is: 52\n",
      "The score threshold is: 3.5\n",
      "Number of outliers is: 45\n",
      "The score threshold is: 4.0\n",
      "Number of outliers is: 41\n",
      "The score threshold is: 4.5\n",
      "Number of outliers is: 38\n"
     ]
    }
   ],
   "source": [
    "# Statistical look at the outliers for these TOTAL_EXPENDITURE shows 38 outliers \n",
    "q_exp75, q_exp25 = np.percentile(df[\"TOTAL_EXPENDITURE\"], [75 ,25])\n",
    "iqr_exp = q_exp75 - q_exp25\n",
    "\n",
    "for threshold in np.arange(1,5,0.5):\n",
    "    min_val_exp = q_exp25 - (iqr_exp*threshold)\n",
    "    max_val_exp = q_exp75 + (iqr_exp*threshold)\n",
    "    print(\"The score threshold is: {}\".format(threshold))\n",
    "    print(\"Number of outliers is: {}\".format(\n",
    "        len((np.where((df[\"TOTAL_EXPENDITURE\"] > max_val_exp) \n",
    "                      | (df[\"TOTAL_EXPENDITURE\"] < min_val_exp))[0]))\n",
    "    ))"
   ]
  },
  {
   "cell_type": "markdown",
   "metadata": {},
   "source": [
    "QUESTION 2: If you detect outliers in the TOTAL_REVENUE and TOTAL_EXPENDITURE variables, apply the techniques you learned in this checkpoint to eliminate them and validate that there's no outlier values after you handled them.\n",
    "\n",
    "ANSWER 2: The IQR log calculations below show that outliers are eliminated with a log transform"
   ]
  },
  {
   "cell_type": "code",
   "execution_count": 23,
   "metadata": {},
   "outputs": [
    {
     "data": {
      "image/png": "[encoded data removed]",
      "text/plain": [
       "<Figure size 1080x360 with 2 Axes>"
      ]
     },
     "metadata": {
      "needs_background": "light"
     },
     "output_type": "display_data"
    }
   ],
   "source": [
    "plt.figure(figsize = (15,5))\n",
    "\n",
    "plt.subplot(1,2,1)\n",
    "plt.hist(np.log(df['TOTAL_REVENUE']))\n",
    "plt.title('Histogram of log transformed Total Revenue')\n",
    "\n",
    "plt.subplot(1,2,2)\n",
    "plt.hist(np.log(df['TOTAL_EXPENDITURE']))\n",
    "plt.title('Histogram of log transformed Total Expenditure')\n",
    "\n",
    "plt.show()"
   ]
  },
  {
   "cell_type": "code",
   "execution_count": 41,
   "metadata": {},
   "outputs": [
    {
     "name": "stdout",
     "output_type": "stream",
     "text": [
      "The score threshold is: 1.0\n",
      "Number of outliers is: 23\n",
      "The score threshold is: 1.5\n",
      "Number of outliers is: 0\n",
      "The score threshold is: 2.0\n",
      "Number of outliers is: 0\n",
      "The score threshold is: 2.5\n",
      "Number of outliers is: 0\n",
      "The score threshold is: 3.0\n",
      "Number of outliers is: 0\n",
      "The score threshold is: 3.5\n",
      "Number of outliers is: 0\n",
      "The score threshold is: 4.0\n",
      "Number of outliers is: 0\n",
      "The score threshold is: 4.5\n",
      "Number of outliers is: 0\n"
     ]
    }
   ],
   "source": [
    "#checking to see if log transform eliminates outliers for TOTAL_REVENUE\n",
    "qrev_log75, qrev_log25 = np.percentile(np.log(df[\"TOTAL_REVENUE\"]), [75 ,25])\n",
    "iqr_rev_log = qrev_log75 - qrev_log25\n",
    "\n",
    "for threshold in np.arange(1,5,0.5):\n",
    "    min_rev_log = qrev_log25 - (iqr_rev_log*threshold)\n",
    "    max_rev_log = qrev_log75 + (iqr_rev_log*threshold)\n",
    "    print(\"The score threshold is: {}\".format(threshold))\n",
    "    print(\"Number of outliers is: {}\".format(\n",
    "        len((np.where((np.log(df[\"TOTAL_REVENUE\"]) > max_rev_log) \n",
    "                      | (np.log(df[\"TOTAL_REVENUE\"]) < min_rev_log))[0]))\n",
    "    ))\n",
    "    \n",
    "df['TOTAL_REVENUE_LOG'] = np.log(df['TOTAL_REVENUE'])"
   ]
  },
  {
   "cell_type": "code",
   "execution_count": 42,
   "metadata": {},
   "outputs": [
    {
     "name": "stdout",
     "output_type": "stream",
     "text": [
      "The score threshold is: 1.0\n",
      "Number of outliers is: 29\n",
      "The score threshold is: 1.5\n",
      "Number of outliers is: 0\n",
      "The score threshold is: 2.0\n",
      "Number of outliers is: 0\n",
      "The score threshold is: 2.5\n",
      "Number of outliers is: 0\n",
      "The score threshold is: 3.0\n",
      "Number of outliers is: 0\n",
      "The score threshold is: 3.5\n",
      "Number of outliers is: 0\n",
      "The score threshold is: 4.0\n",
      "Number of outliers is: 0\n",
      "The score threshold is: 4.5\n",
      "Number of outliers is: 0\n"
     ]
    }
   ],
   "source": [
    "#checking to see if log transform eliminates outliers for TOTAL_EXPENDITURE\n",
    "qexp_log75, qexp_log25 = np.percentile(np.log(df[\"TOTAL_EXPENDITURE\"]), [75 ,25])\n",
    "iqr_exp_log = qexp_log75 - qexp_log25\n",
    "\n",
    "for threshold in np.arange(1,5,0.5):\n",
    "    min_exp_log = qexp_log25 - (iqr_exp_log*threshold)\n",
    "    max_exp_log = qexp_log75 + (iqr_exp_log*threshold)\n",
    "    print(\"The score threshold is: {}\".format(threshold))\n",
    "    print(\"Number of outliers is: {}\".format(\n",
    "        len((np.where((np.log(df[\"TOTAL_EXPENDITURE\"]) > max_exp_log) \n",
    "                      | (np.log(df[\"TOTAL_EXPENDITURE\"]) < min_exp_log))[0]))\n",
    "    ))\n",
    "    \n",
    "df['TOTAL_EXPENDITURE_LOG'] = np.log(df['TOTAL_EXPENDITURE'])"
   ]
  },
  {
   "cell_type": "markdown",
   "metadata": {},
   "source": [
    "QUESTION 3: Create another variable by subtracting the original TOTAL_EXPENDITURE from TOTAL_REVENUE (before you eliminated the outliers). You can think of it as a kind of budget deficit in education. Do you find any outlier values in this new variable? If so, eliminate them using the technique you think most suitable.\n",
    "\n",
    "ANSWER 3: The TOTAL_DEFICIT variable does contain outliers, and these can be transformed using the log tranform approach. This results in 0 outliers."
   ]
  },
  {
   "cell_type": "code",
   "execution_count": 28,
   "metadata": {},
   "outputs": [],
   "source": [
    "df['TOTAL_DEFICIT'] = df['TOTAL_REVENUE']-df['TOTAL_EXPENDITURE']"
   ]
  },
  {
   "cell_type": "code",
   "execution_count": 35,
   "metadata": {},
   "outputs": [
    {
     "data": {
      "image/png": "[encoded data removed]",
      "text/plain": [
       "<Figure size 1080x360 with 2 Axes>"
      ]
     },
     "metadata": {
      "needs_background": "light"
     },
     "output_type": "display_data"
    }
   ],
   "source": [
    "plt.figure(figsize = (15,5))\n",
    "\n",
    "plt.subplot(1,2,1)\n",
    "plt.hist(df['TOTAL_DEFICIT'])\n",
    "plt.title('Total Deficit')\n",
    "\n",
    "plt.subplot(1,2,2)\n",
    "plt.boxplot(df['TOTAL_DEFICIT'])\n",
    "plt.title('Box plot of Total Deficit')\n",
    "plt.show()"
   ]
  },
  {
   "cell_type": "code",
   "execution_count": 37,
   "metadata": {},
   "outputs": [
    {
     "name": "stdout",
     "output_type": "stream",
     "text": [
      "The score threshold is: 1.0\n",
      "Number of outliers is: 275\n",
      "The score threshold is: 1.5\n",
      "Number of outliers is: 202\n",
      "The score threshold is: 2.0\n",
      "Number of outliers is: 151\n",
      "The score threshold is: 2.5\n",
      "Number of outliers is: 117\n",
      "The score threshold is: 3.0\n",
      "Number of outliers is: 100\n",
      "The score threshold is: 3.5\n",
      "Number of outliers is: 85\n",
      "The score threshold is: 4.0\n",
      "Number of outliers is: 78\n",
      "The score threshold is: 4.5\n",
      "Number of outliers is: 61\n"
     ]
    }
   ],
   "source": [
    "# Statistical look at the outliers for these TOTAL_DEFICIT shows 61 outliers \n",
    "q_def75, q_def25 = np.percentile(df[\"TOTAL_DEFICIT\"], [75 ,25])\n",
    "iqr_def = q_def75 - q_def25\n",
    "\n",
    "for threshold in np.arange(1,5,0.5):\n",
    "    min_val_def = q_def25 - (iqr_def*threshold)\n",
    "    max_val_def = q_def75 + (iqr_def*threshold)\n",
    "    print(\"The score threshold is: {}\".format(threshold))\n",
    "    print(\"Number of outliers is: {}\".format(\n",
    "        len((np.where((df[\"TOTAL_DEFICIT\"] > max_val_def) \n",
    "                      | (df[\"TOTAL_DEFICIT\"] < min_val_def))[0]))\n",
    "    ))"
   ]
  },
  {
   "cell_type": "code",
   "execution_count": 38,
   "metadata": {},
   "outputs": [
    {
     "data": {
      "image/png": "[encoded data removed]",
      "text/plain": [
       "<Figure size 576x360 with 1 Axes>"
      ]
     },
     "metadata": {
      "needs_background": "light"
     },
     "output_type": "display_data"
    }
   ],
   "source": [
    "plt.figure(figsize = (8,5))\n",
    "\n",
    "plt.hist(np.log(df['TOTAL_DEFICIT']))\n",
    "plt.title('Histogram of log transformed Total Deficit')\n",
    "\n",
    "plt.show()"
   ]
  },
  {
   "cell_type": "code",
   "execution_count": 40,
   "metadata": {},
   "outputs": [
    {
     "name": "stdout",
     "output_type": "stream",
     "text": [
      "The score threshold is: 1.0\n",
      "Number of outliers is: 0\n",
      "The score threshold is: 1.5\n",
      "Number of outliers is: 0\n",
      "The score threshold is: 2.0\n",
      "Number of outliers is: 0\n",
      "The score threshold is: 2.5\n",
      "Number of outliers is: 0\n",
      "The score threshold is: 3.0\n",
      "Number of outliers is: 0\n",
      "The score threshold is: 3.5\n",
      "Number of outliers is: 0\n",
      "The score threshold is: 4.0\n",
      "Number of outliers is: 0\n",
      "The score threshold is: 4.5\n",
      "Number of outliers is: 0\n"
     ]
    }
   ],
   "source": [
    "#checking to see if log transform eliminates outliers for TOTAL_DEFICIT\n",
    "qdef_log75, qdef_log25 = np.percentile(np.log(df[\"TOTAL_DEFICIT\"]), [75 ,25])\n",
    "iqr_def_log = qdef_log75 - qdef_log25\n",
    "\n",
    "for threshold in np.arange(1,5,0.5):\n",
    "    min_def_log = qdef_log25 - (iqr_def_log*threshold)\n",
    "    max_def_log = qdef_log75 + (iqr_def_log*threshold)\n",
    "    print(\"The score threshold is: {}\".format(threshold))\n",
    "    print(\"Number of outliers is: {}\".format(\n",
    "        len((np.where((np.log(df[\"TOTAL_DEFICIT\"]) > max_def_log) \n",
    "                      | (np.log(df[\"TOTAL_DEFICIT\"]) < min_def_log))[0]))\n",
    "    ))"
   ]
  },
  {
   "cell_type": "markdown",
   "metadata": {},
   "source": [
    "QUESTION 4: Now create another variable by subtracting the TOTAL_EXPENDITURE from TOTAL_REVENUE. This time, use the outlier eliminated versions of TOTAL_EXPENDITURE from TOTAL_REVENUE. In this newly created variable, can you find any outliers? If so, eliminate them.\n",
    "\n",
    "ANSWER 4: There are still 5 outliers. What is the best way to deal with these since the initial values were already log transformed?"
   ]
  },
  {
   "cell_type": "code",
   "execution_count": 45,
   "metadata": {},
   "outputs": [
    {
     "data": {
      "image/png": "[encoded data removed]",
      "text/plain": [
       "<Figure size 1080x360 with 2 Axes>"
      ]
     },
     "metadata": {
      "needs_background": "light"
     },
     "output_type": "display_data"
    }
   ],
   "source": [
    "#verifying that newly created variables are correct\n",
    "plt.figure(figsize = (15,5))\n",
    "\n",
    "plt.subplot(1,2,1)\n",
    "plt.hist(df['TOTAL_REVENUE_LOG'])\n",
    "plt.title('Histogram of log transformed Total Revenue')\n",
    "\n",
    "plt.subplot(1,2,2)\n",
    "plt.hist(df['TOTAL_EXPENDITURE_LOG'])\n",
    "plt.title('Histogram of log transformed Total Expenditure')\n",
    "\n",
    "plt.show()"
   ]
  },
  {
   "cell_type": "code",
   "execution_count": 46,
   "metadata": {},
   "outputs": [],
   "source": [
    "df['TOTAL_DEFICIT_LOG'] = df['TOTAL_REVENUE_LOG'] - df['TOTAL_EXPENDITURE_LOG']"
   ]
  },
  {
   "cell_type": "code",
   "execution_count": 49,
   "metadata": {},
   "outputs": [
    {
     "data": {
      "image/png": "[encoded data removed]",
      "text/plain": [
       "<Figure size 576x360 with 1 Axes>"
      ]
     },
     "metadata": {
      "needs_background": "light"
     },
     "output_type": "display_data"
    }
   ],
   "source": [
    "plt.figure(figsize = (8,5))\n",
    "\n",
    "plt.hist(df['TOTAL_DEFICIT_LOG'])\n",
    "plt.title('Histogram of log transformed Total Deficit')\n",
    "\n",
    "plt.show()"
   ]
  },
  {
   "cell_type": "code",
   "execution_count": 50,
   "metadata": {},
   "outputs": [
    {
     "name": "stdout",
     "output_type": "stream",
     "text": [
      "The score threshold is: 1.0\n",
      "Number of outliers is: 130\n",
      "The score threshold is: 1.5\n",
      "Number of outliers is: 53\n",
      "The score threshold is: 2.0\n",
      "Number of outliers is: 22\n",
      "The score threshold is: 2.5\n",
      "Number of outliers is: 13\n",
      "The score threshold is: 3.0\n",
      "Number of outliers is: 10\n",
      "The score threshold is: 3.5\n",
      "Number of outliers is: 8\n",
      "The score threshold is: 4.0\n",
      "Number of outliers is: 8\n",
      "The score threshold is: 4.5\n",
      "Number of outliers is: 5\n"
     ]
    }
   ],
   "source": [
    "# Statistical look at the outliers for these TOTAL_DEFICIT_LOG shows 5 outliers remain even after\n",
    "#creating the log version of deficit\n",
    "qdef_log75, qdef_log25 = np.percentile(df[\"TOTAL_DEFICIT_LOG\"], [75 ,25])\n",
    "iqr_def_log = qdef_log75 - qdef_log25\n",
    "\n",
    "for threshold in np.arange(1,5,0.5):\n",
    "    min_def_log = qdef_log25 - (iqr_def_log*threshold)\n",
    "    max_def_log = qdef_log75 + (iqr_def_log*threshold)\n",
    "    print(\"The score threshold is: {}\".format(threshold))\n",
    "    print(\"Number of outliers is: {}\".format(\n",
    "        len((np.where((df[\"TOTAL_DEFICIT_LOG\"] > max_def_log) \n",
    "                      | (df[\"TOTAL_DEFICIT_LOG\"] < min_def_log))[0]))\n",
    "    ))"
   ]
  },
  {
   "cell_type": "markdown",
   "metadata": {},
   "source": [
    "QUESTION 5: Compare some basic descriptive statistics of the budget variables you end up with in the 3rd and the 4th questions. Do you see any differences?\n",
    "\n",
    "ANSWER 5: Values are vastly different and variability has decreased significantly."
   ]
  },
  {
   "cell_type": "code",
   "execution_count": 65,
   "metadata": {},
   "outputs": [
    {
     "name": "stdout",
     "output_type": "stream",
     "text": [
      "Stats for TOTAL_REVENUE \n",
      "\n",
      "count       1331.000000\n",
      "mean     9246803.869271\n",
      "std     12003497.149168\n",
      "min       465650.000000\n",
      "25%      2200842.500000\n",
      "50%      5169926.000000\n",
      "75%     11099001.000000\n",
      "max     89217262.000000\n",
      "Name: TOTAL_REVENUE, dtype: float64\n",
      "\n",
      "Stats for TOTAL_REVENUE_LOG \n",
      "\n",
      "count   1331.000000\n",
      "mean      15.454379\n",
      "std        1.079683\n",
      "min       13.051190\n",
      "25%       14.604347\n",
      "50%       15.458369\n",
      "75%       16.222366\n",
      "max       18.306585\n",
      "Name: TOTAL_REVENUE_LOG, dtype: float64\n"
     ]
    }
   ],
   "source": [
    "#describe TOTAL_REVENUE and TOTAL_REVENUE_LOG\n",
    "\n",
    "pd.set_option('float_format', '{:f}'.format)\n",
    "\n",
    "print('Stats for TOTAL_REVENUE \\n')\n",
    "print(df['TOTAL_REVENUE'].describe())\n",
    "print('\\nStats for TOTAL_REVENUE_LOG \\n')\n",
    "print(df['TOTAL_REVENUE_LOG'].describe())"
   ]
  },
  {
   "cell_type": "code",
   "execution_count": 66,
   "metadata": {},
   "outputs": [
    {
     "name": "stdout",
     "output_type": "stream",
     "text": [
      "Stats for TOTAL_EXPENDITURE \n",
      "\n",
      "count       1331.000000\n",
      "mean     9342417.208114\n",
      "std     12207522.362845\n",
      "min       481665.000000\n",
      "25%      2176975.000000\n",
      "50%      5298267.000000\n",
      "75%     10873165.500000\n",
      "max     85320133.000000\n",
      "Name: TOTAL_EXPENDITURE, dtype: float64\n",
      "\n",
      "Stats for TOTAL_EXPENDITURE_LOG \n",
      "\n",
      "count   1331.000000\n",
      "mean      15.459736\n",
      "std        1.083706\n",
      "min       13.085004\n",
      "25%       14.593447\n",
      "50%       15.482890\n",
      "75%       16.201808\n",
      "max       18.261921\n",
      "Name: TOTAL_EXPENDITURE_LOG, dtype: float64\n"
     ]
    }
   ],
   "source": [
    "#describe TOTAL_EXPENDITURE and TOTAL_EXPENDITURE_LOG\n",
    "\n",
    "pd.set_option('float_format', '{:f}'.format)\n",
    "\n",
    "print('Stats for TOTAL_EXPENDITURE \\n')\n",
    "print(df['TOTAL_EXPENDITURE'].describe())\n",
    "print('\\nStats for TOTAL_EXPENDITURE_LOG \\n')\n",
    "print(df['TOTAL_EXPENDITURE_LOG'].describe())"
   ]
  },
  {
   "cell_type": "markdown",
   "metadata": {},
   "source": [
    "QUESTION 6: If our variable of interest is the budget deficit variable, which method do you think is the appropriate in dealing with the outliers in this variable: the method in the 3rd question or the one in the 4th question?\n",
    "\n",
    "ANSWER 6: It seems more accurate to create the variable from the true (original) data first and then transform it."
   ]
  },
  {
   "cell_type": "code",
   "execution_count": null,
   "metadata": {},
   "outputs": [],
   "source": []
  }
 ],
 "metadata": {
  "kernelspec": {
   "display_name": "Python 3",
   "language": "python",
   "name": "python3"
  },
  "language_info": {
   "codemirror_mode": {
    "name": "ipython",
    "version": 3
   },
   "file_extension": ".py",
   "mimetype": "text/x-python",
   "name": "python",
   "nbconvert_exporter": "python",
   "pygments_lexer": "ipython3",
   "version": "3.6.8"
  }
 },
 "nbformat": 4,
 "nbformat_minor": 2
}

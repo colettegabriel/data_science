{
 "cells": [
  {
   "cell_type": "code",
   "execution_count": 55,
   "metadata": {},
   "outputs": [],
   "source": [
    "%matplotlib inline\n",
    "import numpy as np\n",
    "import pandas as pd\n",
    "import scipy\n",
    "import sklearn\n",
    "import matplotlib.pyplot as plt\n",
    "import seaborn as sns\n",
    "from sklearn.model_selection import train_test_split\n",
    "from sklearn.feature_extraction.text import CountVectorizer\n",
    "import re\n",
    "from spacy.lang.en import English\n",
    "\n",
    "df = pd.read_csv('/Users/colette/Documents/GitHub/data_science/sentiment labelled sentences/imdb_labelled.txt', sep=\"\\t\", header=None)\n",
    "df.columns = [\"review\", \"rating\"]"
   ]
  },
  {
   "cell_type": "code",
   "execution_count": 42,
   "metadata": {},
   "outputs": [
    {
     "name": "stdout",
     "output_type": "stream",
     "text": [
      "Unique values in column review are: 745\n",
      "Unique values in column rating are: 2\n"
     ]
    }
   ],
   "source": [
    "for column_name in df.columns:\n",
    "    print(\"Unique values in column {} are: {}\".format(column_name, df[column_name].nunique()))"
   ]
  },
  {
   "cell_type": "code",
   "execution_count": 18,
   "metadata": {},
   "outputs": [
    {
     "name": "stdout",
     "output_type": "stream",
     "text": [
      "<class 'pandas.core.frame.DataFrame'>\n",
      "RangeIndex: 748 entries, 0 to 747\n",
      "Data columns (total 2 columns):\n",
      "review    748 non-null object\n",
      "rating    748 non-null int64\n",
      "dtypes: int64(1), object(1)\n",
      "memory usage: 11.8+ KB\n"
     ]
    }
   ],
   "source": [
    "df.info()"
   ]
  },
  {
   "cell_type": "code",
   "execution_count": 20,
   "metadata": {},
   "outputs": [
    {
     "data": {
      "text/plain": [
       "review    748\n",
       "rating    748\n",
       "dtype: int64"
      ]
     },
     "execution_count": 20,
     "metadata": {},
     "output_type": "execute_result"
    }
   ],
   "source": [
    "#no missing values\n",
    "df.isnull().count()"
   ]
  },
  {
   "cell_type": "code",
   "execution_count": 24,
   "metadata": {},
   "outputs": [
    {
     "data": {
      "text/plain": [
       "19      The structure of this film is easily the most...\n",
       "56     Then scene where they debated whether or not t...\n",
       "73     I cannot believe that the actors agreed to do ...\n",
       "74     I could not stand to even watch it for very lo...\n",
       "80     All the pretty pictures in the world cannot ma...\n",
       "106    Crash is a depressing little nothing, that pro...\n",
       "107    Still, I do like this movie for it's empowerme...\n",
       "111    I certainly do not mean this distinction in a ...\n",
       "124                              Highly unrecommended.  \n",
       "127                       Nothing at all to recommend.  \n",
       "135    You'll love it!  \\t1\\nThis movie is BAD.  \\t0\\...\n",
       "136     In fact, it's hard to remember that the part ...\n",
       "149     I love it.  \\t1\\nThe ending is so, SO perfect...\n",
       "153    Even if you love bad movies, do not watch this...\n",
       "160    I totally and absolutely recommend this movie ...\n",
       "170    I felt as though her going to Ireland did abso...\n",
       "189    I highly recommend this movie for anyone inter...\n",
       "197    Almost all of the songs in Cover Girl are old-...\n",
       "214    Not too screamy not to masculine but just righ...\n",
       "223    This movie is excellent!Angel is beautiful and...\n",
       "233    I am not a filmmaker nor am I a director but I...\n",
       "234    In short - this was a monumental waste of time...\n",
       "237    An interesting premise, and Billy Drago is alw...\n",
       "245    The last 15 minutes of movie are also not bad ...\n",
       "257    You'd have to have the IQ of particularly stup...\n",
       "260    This gets a 1 out of 10, simply because there'...\n",
       "261    This is one I did not have, but I watched it r...\n",
       "276    I was very uneasy with how bad this movie was,...\n",
       "278    About 30 minutes of footage is wasted to show ...\n",
       "283    And, FINALLY, after all that, we get to an end...\n",
       "                             ...                        \n",
       "407    In conclusion, I will not bother with this mov...\n",
       "436    He really didn't seem to want to be hosting; h...\n",
       "439    Nevertheless yet another wonderful film from t...\n",
       "465    Also notable is John Bailey's fine crisp beaut...\n",
       "469                                    It is not good.  \n",
       "497                              Highly recommended A+  \n",
       "502    It is a film about nothing, just a pretext to ...\n",
       "526    Seriously, it's not worth wasting your, or you...\n",
       "542           I just saw this film and I recommend it.  \n",
       "545    Tom Wilkinson's character is a man who is not ...\n",
       "563    It's still wild stuff though and is highly rec...\n",
       "583    The Foreigner is not worth one second of your ...\n",
       "593    This film highlights the fundamental flaws of ...\n",
       "596                  Predictable, but not a bad watch.  \n",
       "606    The attempts at humor were pitiful and story i...\n",
       "620    The acting, as you'd expect from this cast, is...\n",
       "638    Lot of holes in the plot: there's nothing abou...\n",
       "646     With great sound effects, and impressive spec...\n",
       "652    I'm so sorry but I really can't recommend it t...\n",
       "656    This is one of the worst Sandra Bullock movie ...\n",
       "657    I don't understand how this garbage got on the...\n",
       "659                          This is not movie-making.  \n",
       "669    Not much dialogue, not much music, the whole f...\n",
       "677    The movie is not completely perfect but 'Titta...\n",
       "679    I do not know if this was Emilio Estevez's dir...\n",
       "682    For readers who have already seen one of Miyaz...\n",
       "692    However, after finally watching this film, I r...\n",
       "707                  I have recommended it to friends.  \n",
       "718    Enough can not be said of the remarkable anima...\n",
       "731    If you have not seen this movie, I definitely ...\n",
       "Name: review, Length: 72, dtype: object"
      ]
     },
     "execution_count": 24,
     "metadata": {},
     "output_type": "execute_result"
    }
   ],
   "source": [
    "df['review'][df['review'].str.contains('|'.join(searchfor))]"
   ]
  },
  {
   "cell_type": "code",
   "execution_count": 21,
   "metadata": {},
   "outputs": [],
   "source": [
    "df.to_csv('MOIST.csv')"
   ]
  },
  {
   "cell_type": "code",
   "execution_count": 38,
   "metadata": {},
   "outputs": [],
   "source": [
    "X_train, X_test, y_train, y_test = train_test_split(df['review'].values, \n",
    "                 df['rating'].values,        \n",
    "                 test_size=0.2)"
   ]
  },
  {
   "cell_type": "code",
   "execution_count": 28,
   "metadata": {},
   "outputs": [],
   "source": [
    "###ATTEMPT TO COUNT PRESENSE OF MULTIPLE WORDS AT ONCE\n",
    "\n",
    "rec_key_neg = ['not', 'recommend']\n",
    "rec_key_pos = ['totally', 'definitely', 'absolutely', 'recommend']\n",
    "\n",
    "df['rating'] = np.nan\n",
    "\n",
    "for row in df.iterrows():\n",
    "    # Note that we add spaces around the key so that we're getting the word,\n",
    "    # not just pattern matching.\n",
    "    df['neg_rating'] = df['review'][df['review'].str.contains('|'.join(rec_key_neg))]\n",
    "    df['pos_rating'] = df['review'][df['review'].str.contains('|'.join(rec_key_pos))]\n",
    "   # if df['rating'][row] = df.review.str.contains(\n",
    "   #     ' ' + 'not' + ' '\n",
    "   #     case=False\n",
    "   # )"
   ]
  },
  {
   "cell_type": "code",
   "execution_count": 53,
   "metadata": {},
   "outputs": [],
   "source": [
    "# Load English tokenizer, tagger, parser, NER and word vectors\n",
    "nlp = English()\n",
    "\n",
    "#  \"nlp\" Object is used to create documents with linguistic annotations.\n",
    "df['token'] = df.apply(lambda row: nlp(row['review']), axis=1)"
   ]
  },
  {
   "cell_type": "code",
   "execution_count": null,
   "metadata": {},
   "outputs": [],
   "source": [
    "keywords = ['not recommend', 'absolutely', 'definitely', 'recommend', 'entertain', 'love', 'waste', 'bad', 'terrible',\n",
    "           'dissapoint', 'avoid', 'great', 'good', 'brilliant']\n",
    "\n",
    "for key in keywords:\n",
    "    # Note that we add spaces around the key so that we're getting the word,\n",
    "    # not just pattern matching.\n",
    "    sms_raw[str(key)] = sms_raw.message.str.contains(\n",
    "        ' ' + str(key) + ' ',\n",
    "        case=False\n",
    "    )"
   ]
  }
 ],
 "metadata": {
  "kernelspec": {
   "display_name": "Python 3",
   "language": "python",
   "name": "python3"
  },
  "language_info": {
   "codemirror_mode": {
    "name": "ipython",
    "version": 3
   },
   "file_extension": ".py",
   "mimetype": "text/x-python",
   "name": "python",
   "nbconvert_exporter": "python",
   "pygments_lexer": "ipython3",
   "version": "3.7.3"
  }
 },
 "nbformat": 4,
 "nbformat_minor": 2
}
